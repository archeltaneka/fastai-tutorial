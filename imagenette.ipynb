{
 "cells": [
  {
   "cell_type": "markdown",
   "id": "olympic-secretariat",
   "metadata": {},
   "source": [
    "<b>Imagenette<b> is a subset of ImageNet with 10 very different classes. It's great to quickly experiment before trying a fleshed-out technique on the full ImageNet dataset. We will show in this tutorial how to train a model on it, using the usual high-level APIs, then delving inside the fastai library to show you how to use the mid-level APIs we designed. This way you'll be able to customize your own data collection or training as needed."
   ]
  },
  {
   "cell_type": "code",
   "execution_count": null,
   "id": "hazardous-passing",
   "metadata": {},
   "outputs": [],
   "source": [
    "from fastai2.vision.all import *"
   ]
  },
  {
   "cell_type": "code",
   "execution_count": null,
   "id": "ambient-baker",
   "metadata": {},
   "outputs": [],
   "source": [
    "path = untar_data(URLs.IMAGENETTE_160)"
   ]
  },
  {
   "cell_type": "markdown",
   "id": "published-consensus",
   "metadata": {},
   "source": [
    "## Assemble the data"
   ]
  },
  {
   "cell_type": "markdown",
   "id": "finnish-workstation",
   "metadata": {},
   "source": [
    "### Loading the data with a factory method"
   ]
  },
  {
   "cell_type": "code",
   "execution_count": null,
   "id": "divided-anthropology",
   "metadata": {},
   "outputs": [],
   "source": [
    "# we will use ImageDataLoaders.from_folder to get everything\n",
    "dls = ImageDataLoaders.from_folder(path, valid='val',\n",
    "                                  item_tfms=RandomResizedCrop(128, min_scale=0.35), batch_tfms=Normalize.from_stats(*imagenet_stats))"
   ]
  },
  {
   "cell_type": "code",
   "execution_count": null,
   "id": "opponent-plastic",
   "metadata": {},
   "outputs": [],
   "source": [
    "dls.show_batch()"
   ]
  },
  {
   "cell_type": "markdown",
   "id": "three-opinion",
   "metadata": {},
   "source": [
    "### Loading the data with the data block API"
   ]
  },
  {
   "cell_type": "code",
   "execution_count": null,
   "id": "fluid-radiation",
   "metadata": {},
   "outputs": [],
   "source": [
    "fnames = get_image_files(path)"
   ]
  },
  {
   "cell_type": "code",
   "execution_count": null,
   "id": "bearing-tolerance",
   "metadata": {},
   "outputs": [],
   "source": [
    "dblock = DataBlock()"
   ]
  },
  {
   "cell_type": "code",
   "execution_count": null,
   "id": "usual-madness",
   "metadata": {},
   "outputs": [],
   "source": [
    "dsets = dblock.datasets(fnames)\n",
    "dsets.train[0]"
   ]
  },
  {
   "cell_type": "code",
   "execution_count": null,
   "id": "concrete-newport",
   "metadata": {},
   "outputs": [],
   "source": [
    "dblock = DataBlock(get_items=get_image_files)\n",
    "dsets = dblock.datasets(path)\n",
    "dsets.train[0]"
   ]
  },
  {
   "cell_type": "markdown",
   "id": "crude-safety",
   "metadata": {},
   "source": [
    "Our inputs are ready to be processed as images (since images can be built from filenames), but our target is not. We need to convert that filename to a class name. For this, fastai provides `parent_label`:"
   ]
  },
  {
   "cell_type": "code",
   "execution_count": null,
   "id": "generic-print",
   "metadata": {},
   "outputs": [],
   "source": [
    "parent_label(fnames[0])"
   ]
  },
  {
   "cell_type": "markdown",
   "id": "spanish-saying",
   "metadata": {},
   "source": [
    "This is not very readable, so since we can actually make the function we want, let's convert those obscure labels to something we can read:"
   ]
  },
  {
   "cell_type": "code",
   "execution_count": null,
   "id": "extended-poetry",
   "metadata": {},
   "outputs": [],
   "source": [
    "lbl_dict = dict(\n",
    "    n01440764='tench',\n",
    "    n02102040='English springer',\n",
    "    n02979186='cassette player',\n",
    "    n03000684='chain saw',\n",
    "    n03028079='church',\n",
    "    n03394916='French horn',\n",
    "    n03417042='garbage truck',\n",
    "    n03425413='gas pump',\n",
    "    n03445777='golf ball',\n",
    "    n03888257='parachute'\n",
    ")"
   ]
  },
  {
   "cell_type": "code",
   "execution_count": null,
   "id": "collaborative-combining",
   "metadata": {},
   "outputs": [],
   "source": [
    "def label_func(fname):\n",
    "    return lbl_dict[parent_label(fname)]"
   ]
  },
  {
   "cell_type": "markdown",
   "id": "coral-million",
   "metadata": {},
   "source": [
    "We can then tell our data block to use it to label our target by passing it as `get_y`:"
   ]
  },
  {
   "cell_type": "code",
   "execution_count": null,
   "id": "compound-supervisor",
   "metadata": {},
   "outputs": [],
   "source": [
    "dblock = DataBlock(get_items=get_image_files,\n",
    "                  get_y=label_func)\n",
    "dsets = dblock.datasets(path)\n",
    "dsets.train[0]"
   ]
  },
  {
   "cell_type": "markdown",
   "id": "large-mumbai",
   "metadata": {},
   "source": [
    "Now that our inputs and targets are ready, we can specify types to tell the data block API that our inputs are images and our targets are categories. Types are represented by blocks in the data block API, here we use `ImageBlock` and `CategoryBlock`:"
   ]
  },
  {
   "cell_type": "code",
   "execution_count": null,
   "id": "recorded-washer",
   "metadata": {},
   "outputs": [],
   "source": [
    "dblock = DataBlock(blocks=(ImageBlock, CategoryBlock),\n",
    "                  get_items=get_image_files,\n",
    "                  get_y=label_func)\n",
    "dsets = dblock.datasets(path)\n",
    "dsets.train[0]"
   ]
  },
  {
   "cell_type": "markdown",
   "id": "egyptian-nashville",
   "metadata": {},
   "source": [
    "We can see how the `DataBlock` automatically added the transforms necessary to open the image, or how it changed the name \"cat\" to an index (with a special tensor type). To do this, it created a mapping from categories to index called \"vocab\" that we can access this way:"
   ]
  },
  {
   "cell_type": "code",
   "execution_count": null,
   "id": "enclosed-convertible",
   "metadata": {},
   "outputs": [],
   "source": [
    "dsets.vocab"
   ]
  },
  {
   "cell_type": "markdown",
   "id": "experimental-korean",
   "metadata": {},
   "source": [
    "The next step is to control how our validation set is created. We do this by passing a splitter to `DataBlock`. For instance, here is how we split by grandparent folder."
   ]
  },
  {
   "cell_type": "code",
   "execution_count": null,
   "id": "alpha-contribution",
   "metadata": {},
   "outputs": [],
   "source": [
    "dblock = DataBlock(blocks=(ImageBlock, CategoryBlock),\n",
    "                  get_items=get_image_files,\n",
    "                  get_y=label_func,\n",
    "                  splitter=GrandparentSplitter())\n",
    "\n",
    "dsets = dblock.datasets(path)\n",
    "dsets.train[0]"
   ]
  },
  {
   "cell_type": "markdown",
   "id": "valuable-offense",
   "metadata": {},
   "source": [
    "The last step is to specify item transforms and batch transforms (the same way as we do it in `ImageDataLoaders` factory methods):"
   ]
  },
  {
   "cell_type": "code",
   "execution_count": null,
   "id": "timely-producer",
   "metadata": {},
   "outputs": [],
   "source": [
    "dblock = DataBlock(blocks    = (ImageBlock, CategoryBlock),\n",
    "                   get_items = get_image_files,\n",
    "                   get_y     = label_func,\n",
    "                   splitter  = GrandparentSplitter(),\n",
    "                   item_tfms = RandomResizedCrop(128, min_scale=0.35), \n",
    "                   batch_tfms=Normalize.from_stats(*imagenet_stats))"
   ]
  },
  {
   "cell_type": "code",
   "execution_count": null,
   "id": "official-survivor",
   "metadata": {},
   "outputs": [],
   "source": [
    "dls = dblock.dataloaders(path)\n",
    "dls.show_batch()"
   ]
  },
  {
   "cell_type": "markdown",
   "id": "catholic-stamp",
   "metadata": {},
   "source": [
    "Another way to compose several functions for `get_y` is to put them in a `Pipeline`:"
   ]
  },
  {
   "cell_type": "code",
   "execution_count": null,
   "id": "celtic-occurrence",
   "metadata": {},
   "outputs": [],
   "source": [
    "imagenette = DataBlock(blocks = (ImageBlock, CategoryBlock),\n",
    "                       get_items = get_image_files,\n",
    "                       get_y = Pipeline([parent_label, lbl_dict.__getitem__]),\n",
    "                       splitter = GrandparentSplitter(valid_name='val'),\n",
    "                       item_tfms = RandomResizedCrop(128, min_scale=0.35),\n",
    "                       batch_tfms = Normalize.from_stats(*imagenet_stats))"
   ]
  },
  {
   "cell_type": "code",
   "execution_count": null,
   "id": "confident-bacon",
   "metadata": {},
   "outputs": [],
   "source": [
    "dls = imagenette.dataloaders(path)\n",
    "dls.show_batch()"
   ]
  },
  {
   "cell_type": "markdown",
   "id": "owned-consultancy",
   "metadata": {},
   "source": [
    "### Loading the data with mid level API"
   ]
  },
  {
   "cell_type": "markdown",
   "id": "qualified-nirvana",
   "metadata": {},
   "source": [
    "Now let's see how we can load the data with the medium-level API: we will learn about `Transforms` and `Datasets`. The beginning is the same as before: we download our data and get all our filenames:"
   ]
  },
  {
   "cell_type": "code",
   "execution_count": null,
   "id": "iraqi-clerk",
   "metadata": {},
   "outputs": [],
   "source": [
    "source = untar_data(URLs.IMAGENETTE_160)\n",
    "fnames = get_image_files(source)"
   ]
  },
  {
   "cell_type": "markdown",
   "id": "forty-board",
   "metadata": {},
   "source": [
    "Every bit of transformation we apply to our raw items (here the filenames) is called a `Transform` in fastai. It's basically a function with a bit of added functionality:\n",
    "- it can have different behavior depending on the type it receives (this is called type dispatch)\n",
    "- it will generally be applied on each element of a tuple\n",
    "\n",
    "This way, when you have a `Transform` like resize, you can apply it on a tuple (image, label) and it will resize the image but not the categorical label (since there is no implementation of resize for categories). The exact same transform applied on a tuple (image, mask) will resize the image and the target, using bilinear interpolation on the image and nearest neighbor on the mask. This is how the library manages to always apply data augmentation transforms on every computer vision application (segmentation, point localization or object detection).\n",
    "\n",
    "Additionally, a transform can have\n",
    "- a setup executed on the whole set (or the whole training set). This is how `Categorize` builds it vocabulary automatically.\n",
    "- a decodes that can undo what the transform does for showing purposes (for instance `Categorize` will convert back an index into a category)."
   ]
  },
  {
   "cell_type": "markdown",
   "id": "sonic-lover",
   "metadata": {},
   "source": [
    "To open an image, we use the PILImage.create transform. It will open the image and make it of the fastai type PILImage:"
   ]
  },
  {
   "cell_type": "code",
   "execution_count": null,
   "id": "working-jumping",
   "metadata": {},
   "outputs": [],
   "source": [
    "PILImage.create(fnames[0])"
   ]
  },
  {
   "cell_type": "code",
   "execution_count": null,
   "id": "catholic-alaska",
   "metadata": {},
   "outputs": [],
   "source": [
    "lbl_dict[parent_label(fnames[0])]"
   ]
  },
  {
   "cell_type": "markdown",
   "id": "aggregate-branch",
   "metadata": {},
   "source": [
    "To make them proper categories that are mapped to an index before being fed to the model, we need to add the `Categorize` transform. If we want to apply it directly, we need to give it a vocab (so that it knows how to associate a string with an int). We already saw that we can compose several transforms by using a `Pipeline`:"
   ]
  },
  {
   "cell_type": "code",
   "execution_count": null,
   "id": "surprising-hobby",
   "metadata": {},
   "outputs": [],
   "source": [
    "tfm = Pipeline([parent_label, lbl_dict.__getitem__, Categorize(vocab=lbl_dict.values())])\n",
    "tfm(fnames[0])"
   ]
  },
  {
   "cell_type": "markdown",
   "id": "whole-mexican",
   "metadata": {},
   "source": [
    "Now to build our Datasets object, we need to specify:\n",
    "- our raw items\n",
    "- the list of transforms that builds our inputs from the raw items\n",
    "- the list of transforms that builds our targets from the raw items\n",
    "- the split for training and validation"
   ]
  },
  {
   "cell_type": "code",
   "execution_count": null,
   "id": "swedish-short",
   "metadata": {},
   "outputs": [],
   "source": [
    "# now we can create split and pass it to our dataset\n",
    "split = GrandparentSplitter(valid_name='val')(fnames)\n",
    "dsets = Datasets(fnames, [[PILImage.create], [parent_label, lbl_dict.__getitem__, Categorize]], splits=split)"
   ]
  },
  {
   "cell_type": "markdown",
   "id": "dominant-belarus",
   "metadata": {},
   "source": [
    "The main difference with what we had before is that we can just pass along `Categorize` without passing it the vocab: it will build it from the training data (which it knows from items and splits) during its setup phase. Let's have a look at the first element:"
   ]
  },
  {
   "cell_type": "code",
   "execution_count": null,
   "id": "different-toddler",
   "metadata": {},
   "outputs": [],
   "source": [
    "dsets[0]"
   ]
  },
  {
   "cell_type": "code",
   "execution_count": null,
   "id": "invalid-liquid",
   "metadata": {},
   "outputs": [],
   "source": [
    "dsets.show(dsets[0])"
   ]
  },
  {
   "cell_type": "markdown",
   "id": "precise-german",
   "metadata": {},
   "source": [
    "Now if we want to build a DataLoaders from this object, we need to add a few transforms that will be applied at the item level. As we saw before, those transforms will be applied separately on the inputs and targets, using the appropriate implementation for each type (which can very well be don't do anything).\n",
    "\n",
    "Here we need to:\n",
    "- resize our images\n",
    "- convert them to tensors"
   ]
  },
  {
   "cell_type": "code",
   "execution_count": null,
   "id": "raising-sterling",
   "metadata": {},
   "outputs": [],
   "source": [
    "item_tfms = [ToTensor, RandomResizedCrop(128, min_scale=.35)]"
   ]
  },
  {
   "cell_type": "code",
   "execution_count": null,
   "id": "wooden-employer",
   "metadata": {},
   "outputs": [],
   "source": [
    "batch_tfms = [IntToFloatTensor, Normalize.from_stats(*imagenet_stats)]"
   ]
  },
  {
   "cell_type": "markdown",
   "id": "coastal-school",
   "metadata": {},
   "source": [
    "Those two bits could be done per item as well, but it's way more efficient to do it on a full batch.\n",
    "\n",
    "Note that we have more transforms than in the data block API: there was no need to think of `ToTensor` or `IntToFloatTensor` there. This is because data blocks come with default item transforms and batch transforms when it concerns transforms you will always need with that type.\n",
    "\n",
    "When passing those transforms to the `.dataloaders` method, the corresponding arguments have a slightly different name: the `item_tfms` are passed to `after_item` (because they are applied after the item has been formed) and the `batch_tfms` are passed to `after_batch` (because they are applied after the batch has been formed)."
   ]
  },
  {
   "cell_type": "code",
   "execution_count": null,
   "id": "proprietary-clinton",
   "metadata": {},
   "outputs": [],
   "source": [
    "dls = dsets.dataloaders(after_item=item_tfms, after_batch=batch_tfms, bs=64, num_workers=0)"
   ]
  },
  {
   "cell_type": "code",
   "execution_count": null,
   "id": "departmental-familiar",
   "metadata": {},
   "outputs": [],
   "source": [
    "dls.show_batch()"
   ]
  },
  {
   "cell_type": "markdown",
   "id": "curious-utilization",
   "metadata": {},
   "source": [
    "## Training"
   ]
  },
  {
   "cell_type": "markdown",
   "id": "golden-singing",
   "metadata": {},
   "source": [
    "### Building a Learner"
   ]
  },
  {
   "cell_type": "markdown",
   "id": "dramatic-support",
   "metadata": {},
   "source": [
    "We will start with the usual `cnn_learner` function we used in the vision tutorial, we will see how one can build a Learner object in fastai. Then we will learn how to customize\n",
    "- the loss function and how to write one that works fully with fastai,\n",
    "- the optimizer function and how to use PyTorch optimizers,\n",
    "- the training loop and how to write a basic `Callback`.\n",
    "\n",
    "We can specify that we don't want a pretrained model by passing `pretrained=False` (here the goal is to train a model from scratch):"
   ]
  },
  {
   "cell_type": "code",
   "execution_count": null,
   "id": "criminal-strap",
   "metadata": {},
   "outputs": [],
   "source": [
    "learn = cnn_learner(dls, resnet34, metrics=accuracy, pretrained=False)"
   ]
  },
  {
   "cell_type": "code",
   "execution_count": null,
   "id": "statewide-summer",
   "metadata": {},
   "outputs": [],
   "source": [
    "learn.fit_one_cycle(5, 5e-3)"
   ]
  },
  {
   "cell_type": "markdown",
   "id": "aggressive-links",
   "metadata": {},
   "source": [
    "That's a start. But since we are not using a pretrained model, why not use a different architecture? fastai comes with a version of the resnets models that have all the tricks from modern research incorporated. While there is no pretrained model using those at the time of writing this tutorial, we can certainly use them here. For this, we just need to use the Learner class. It takes our DataLoaders and a PyTorch model, at the minimum. Here we can use `xresnet34` and since we have 10 classes, we specify `n_out=10`:"
   ]
  },
  {
   "cell_type": "code",
   "execution_count": null,
   "id": "seven-bottle",
   "metadata": {},
   "outputs": [],
   "source": [
    "learn = Learner(dls, xresnet34(n_out=10), metrics=accuracy)"
   ]
  },
  {
   "cell_type": "code",
   "execution_count": null,
   "id": "protective-excerpt",
   "metadata": {},
   "outputs": [],
   "source": [
    "# find a suitable learning rate\n",
    "learn.lr_find()"
   ]
  },
  {
   "cell_type": "code",
   "execution_count": null,
   "id": "olympic-volleyball",
   "metadata": {},
   "outputs": [],
   "source": [
    "# then fit our model\n",
    "learn.fit_one_cycle(5, 1e-3)"
   ]
  },
  {
   "cell_type": "code",
   "execution_count": null,
   "id": "needed-assistant",
   "metadata": {},
   "outputs": [],
   "source": [
    "learn.show_results()"
   ]
  },
  {
   "cell_type": "markdown",
   "id": "labeled-checklist",
   "metadata": {},
   "source": [
    "### Changing the loss function"
   ]
  },
  {
   "cell_type": "markdown",
   "id": "adaptive-questionnaire",
   "metadata": {},
   "source": [
    "The loss function you pass to a `Learner` is expected to take an output and target, then return the loss. It can be any regular PyTorch function and the training loop will work without any problem. What may cause problems is when you use fastai functions like `Learner.get_preds`, `Learner.predict` or `Learner.show_results`.\n",
    "\n",
    "If you want `Learner.get_preds` to work with the argument with_loss=True (which is also used when you `runClassificationInterpretation.plot_top_losses` for instance), your loss function will need a reduction attribute (or argument) that you can set to \"none\" (this is standard for all PyTorch loss functions or classes). With a reduction of \"none\", the loss function does not return a single number (like a mean or sum) but something the same size as the target.\n",
    "\n",
    "As for `Learner.predict` or `Learner.show_results`, they internally rely on two methods your loss function should have:\n",
    "\n",
    "if you have a loss that combines activation and loss function (such as `nn.CrossEntropyLoss`), an activation function.\n",
    "a decodes function that converts your predictions to the same format your targets are: for instance in the case of `nn.CrossEntropyLoss`, the decodes function should take the argmax.\n",
    "As an example, let's look at how to implement a custom loss function doing label smoothing (this is already in fastai as `LabelSmoothingCrossEntropy`)."
   ]
  },
  {
   "cell_type": "code",
   "execution_count": null,
   "id": "vertical-silicon",
   "metadata": {},
   "outputs": [],
   "source": [
    "class LabelSmoothingCE(Module):\n",
    "    def __init__(self, eps=0.1, reduction='mean'): self.eps,self.reduction = eps,reduction\n",
    "\n",
    "    def forward(self, output, target):\n",
    "        c = output.size()[-1]\n",
    "        log_preds = F.log_softmax(output, dim=-1)\n",
    "        if self.reduction=='sum': loss = -log_preds.sum()\n",
    "        else:\n",
    "            loss = -log_preds.sum(dim=-1) #We divide by that size at the return line so sum and not mean\n",
    "            if self.reduction=='mean':  loss = loss.mean()\n",
    "        return loss*self.eps/c + (1-self.eps) * F.nll_loss(log_preds, target.long(), reduction=self.reduction)\n",
    "\n",
    "    def activation(self, out): return F.softmax(out, dim=-1)\n",
    "    def decodes(self, out):    return out.argmax(dim=-1)"
   ]
  },
  {
   "cell_type": "code",
   "execution_count": null,
   "id": "consolidated-nursery",
   "metadata": {},
   "outputs": [],
   "source": [
    "learn = Learner(dls, xresnet34(n_out=10), loss_func=LabelSmoothingCE(), metrics=accuracy)"
   ]
  },
  {
   "cell_type": "code",
   "execution_count": null,
   "id": "blessed-directory",
   "metadata": {},
   "outputs": [],
   "source": [
    "learn.fit_one_cycle(5, 1e-3)"
   ]
  },
  {
   "cell_type": "markdown",
   "id": "personal-snake",
   "metadata": {},
   "source": [
    "It's not training as well as before because label smoothing is a regularizing technique, so it needs more epochs to really kick in and give better results.\n",
    "\n",
    "After training our model, we can indeed use `predict` and `show_results` and get proper results:"
   ]
  },
  {
   "cell_type": "code",
   "execution_count": null,
   "id": "governmental-tsunami",
   "metadata": {},
   "outputs": [],
   "source": [
    "learn.predict(fnames[0])"
   ]
  },
  {
   "cell_type": "code",
   "execution_count": null,
   "id": "regular-diary",
   "metadata": {},
   "outputs": [],
   "source": [
    "learn.show_results()"
   ]
  },
  {
   "cell_type": "markdown",
   "id": "ignored-boring",
   "metadata": {},
   "source": [
    "### Changing the optimizer"
   ]
  },
  {
   "cell_type": "markdown",
   "id": "floral-reserve",
   "metadata": {},
   "source": [
    "fastai uses its own class of `Optimizer` built with various callbacks to refactor common functionality and provide a unique naming of hyperparameters playing the same role (like momentum in SGD, which is the same as alpha in RMSProp and beta0 in Adam) which makes it easier to schedule them (such as in `Learner.fit_one_cycle`).\n",
    "\n",
    "It implements all optimizers supported by PyTorch (and much more) so you should never need to use one coming from PyTorch. Checkout the `optimizer` module to see all the optimizers natively available.\n",
    "\n",
    "However in some circumstances, you might need to use an optimizer that is not in fastai (if for instance it's a new one only implemented in PyTorch). Before learning how to port the code to our internal `Optimizer` (checkout the optimizer module to discover how), you can use the `OptimWrapper` class to wrap your PyTorch optimizer and train with it:"
   ]
  },
  {
   "cell_type": "code",
   "execution_count": null,
   "id": "social-african",
   "metadata": {},
   "outputs": [],
   "source": [
    "@delegates(torch.optim.AdamW.__init__)\n",
    "def pytorch_adamw(param_groups, **kwargs):\n",
    "    return OptimWrapper(torch.optim.AdamW([{'params': ps, **kwargs} for ps in param_groups]))"
   ]
  },
  {
   "cell_type": "code",
   "execution_count": null,
   "id": "deluxe-seafood",
   "metadata": {},
   "outputs": [],
   "source": [
    "learn = Learner(dls, xresnet18(), lr=1e-2, metrics=accuracy,\n",
    "                loss_func=LabelSmoothingCrossEntropy(),\n",
    "                opt_func=partial(pytorch_adamw, wd=0.01, eps=1e-3))"
   ]
  },
  {
   "cell_type": "code",
   "execution_count": null,
   "id": "coastal-vancouver",
   "metadata": {},
   "outputs": [],
   "source": [
    "# find the optimal learning rate\n",
    "learn.lr_find()"
   ]
  },
  {
   "cell_type": "code",
   "execution_count": null,
   "id": "twenty-basis",
   "metadata": {},
   "outputs": [],
   "source": [
    "# thanks to the wrapper, fastai will properly schedule the beta0 of AdamW).\n",
    "learn.fit_one_cycle(5, 5e-3)"
   ]
  },
  {
   "cell_type": "markdown",
   "id": "threaded-newsletter",
   "metadata": {},
   "source": [
    "### Changing the training loop with a Callback"
   ]
  },
  {
   "cell_type": "markdown",
   "id": "acquired-publicity",
   "metadata": {},
   "source": [
    "The base training loop in fastai is the same as PyTorch's:\n",
    "<code>\n",
    "for xb,yb in dl:\n",
    "    pred = model(xb)\n",
    "    loss = loss_func(pred, yb)\n",
    "    loss.backward()\n",
    "    opt.step()\n",
    "    opt.zero_grad()\n",
    "</code>\n",
    "\n",
    "where `model`, `loss_func` and `opt` are all attributes of our `Learner`. To easily allow you to add new behavior in that training loop without needing to rewrite it yourself (along with all the fastai pieces you might want like mixed precision, 1cycle schedule, distributed training...), you can customize what happens in the training loop by writing a callback.\n",
    "\n",
    "`Callbacks` will be fully explained in an upcoming tutorial, but the basics are that:\n",
    "\n",
    "a `Callback` can read every piece of a Learner, hence knowing everything happening in the training loop\n",
    "a `Callback` can change any piece of the Learner, allowing it to alter the behavior of the training loop\n",
    "a `Callback` can even raise special exceptions that will allow breaking points (skipping a step, a validation phase, an epoch or even cancelling training entirely)\n",
    "\n",
    "Here we will write a simple `Callback` applying `mixup` to our training (the version we will write is specific to our problem, use fastai's `MixUp` in other settings).\n",
    "\n",
    "`Mixup` consists in changing the inputs by mixing two different inputs and making a linear combination of them:\n",
    ">input = x1 * t + x2 * (1-t)\n",
    "\n",
    "Where `t` is a random number between 0 and 1. Then, if the targets are one-hot encoded, we change the target to be\n",
    ">target = y1 * t + y2 * (1-t)\n",
    "\n",
    "In practice though, targets are not one-hot encoded in PyTorch, but it's equivalent to change the part of the loss dealing with y1 and y2 by\n",
    ">loss = loss_func(pred, y1) * t + loss_func(pred, y2) * (1-t)\n",
    "\n",
    "because the loss function used is linear with respect to y.\n",
    "\n",
    "We just need to use the version with reduction='none' of the loss to do this linear combination, then take the mean.\n",
    "\n",
    "Here is how we write mixup in a `Callback`:"
   ]
  },
  {
   "cell_type": "code",
   "execution_count": null,
   "id": "enhanced-appraisal",
   "metadata": {},
   "outputs": [],
   "source": [
    "from torch.distributions.beta import Beta"
   ]
  },
  {
   "cell_type": "code",
   "execution_count": null,
   "id": "legal-graphic",
   "metadata": {},
   "outputs": [],
   "source": [
    "class Mixup(Callback):\n",
    "    run_valid = False\n",
    "    \n",
    "    def __init__(self, alpha=0.4): self.distrib = Beta(tensor(alpha), tensor(alpha))\n",
    "    \n",
    "    def before_batch(self):\n",
    "        self.t = self.distrib.sample((self.y.size(0),)).squeeze().to(self.x.device)\n",
    "        shuffle = torch.randperm(self.y.size(0)).to(self.x.device)\n",
    "        x1,self.y1 = self.x[shuffle],self.y[shuffle]\n",
    "        self.learn.xb = (x1 * (1-self.t[:,None,None,None]) + self.x * self.t[:,None,None,None],)\n",
    "    \n",
    "    def after_loss(self):\n",
    "        with NoneReduce(self.loss_func) as lf:\n",
    "            loss = lf(self.pred,self.y1) * (1-self.t) + lf(self.pred,self.y) * self.t\n",
    "        self.learn.loss = loss.mean()"
   ]
  },
  {
   "cell_type": "markdown",
   "id": "informational-functionality",
   "metadata": {},
   "source": [
    "We can see we write two events:\n",
    "\n",
    "`before_batch` is executed just after drawing a batch and before the model is run on the input. We first draw our random numbers t, following a beta distribution (like advised in the paper) and get a shuffled version of the batch (instead of drawing a second version of the batch, we mix one batch with a shuffled version of itself). Then we set `self.learn.xb` to the new input, which will be the on fed to the model.\n",
    "`after_loss` is executed just after the loss is computed and before the backward pass. We replace `self.learn.loss` by the correct value. NoneReduce is a context manager that temporarily sets the reduction attribute of a loss to 'none'.\n",
    "\n",
    "Also, we tell the Callback it should not run during the validation phase with `run_valid=False`.\n",
    "\n",
    "To pass a `Callback` to a `Learner`, we use `cbs=`:"
   ]
  },
  {
   "cell_type": "code",
   "execution_count": null,
   "id": "impressive-offering",
   "metadata": {},
   "outputs": [],
   "source": [
    "learn = Learner(dls, xresnet18(), lr=1e-2, metrics=accuracy,\n",
    "                loss_func=LabelSmoothingCrossEntropy(), cbs=Mixup(),\n",
    "                opt_func=partial(pytorch_adamw, wd=0.01, eps=1e-3))"
   ]
  },
  {
   "cell_type": "code",
   "execution_count": null,
   "id": "referenced-contrary",
   "metadata": {},
   "outputs": [],
   "source": [
    "learn.lr_find()"
   ]
  },
  {
   "cell_type": "code",
   "execution_count": null,
   "id": "growing-symphony",
   "metadata": {},
   "outputs": [],
   "source": [
    "learn.fit_one_cycle(5, 5e-3)"
   ]
  },
  {
   "cell_type": "markdown",
   "id": "frozen-crown",
   "metadata": {},
   "source": [
    "Like label smoothing, this is a callback that provides more regularization, so you need to run more epochs before seeing any benefit."
   ]
  },
  {
   "cell_type": "code",
   "execution_count": null,
   "id": "exotic-decrease",
   "metadata": {},
   "outputs": [],
   "source": []
  }
 ],
 "metadata": {
  "kernelspec": {
   "display_name": "Python 3",
   "language": "python",
   "name": "python3"
  },
  "language_info": {
   "codemirror_mode": {
    "name": "ipython",
    "version": 3
   },
   "file_extension": ".py",
   "mimetype": "text/x-python",
   "name": "python",
   "nbconvert_exporter": "python",
   "pygments_lexer": "ipython3",
   "version": "3.8.5"
  }
 },
 "nbformat": 4,
 "nbformat_minor": 5
}
