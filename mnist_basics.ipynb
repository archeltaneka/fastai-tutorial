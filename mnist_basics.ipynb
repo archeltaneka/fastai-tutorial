{
 "cells": [
  {
   "cell_type": "markdown",
   "id": "ahead-washington",
   "metadata": {},
   "source": [
    "# MNIST Basics"
   ]
  },
  {
   "cell_type": "code",
   "execution_count": 26,
   "id": "black-adaptation",
   "metadata": {},
   "outputs": [],
   "source": [
    "from fastai2.vision.all import *"
   ]
  },
  {
   "cell_type": "code",
   "execution_count": 27,
   "id": "engaging-astrology",
   "metadata": {},
   "outputs": [
    {
     "data": {
      "text/html": [],
      "text/plain": [
       "<IPython.core.display.HTML object>"
      ]
     },
     "metadata": {},
     "output_type": "display_data"
    }
   ],
   "source": [
    "path = untar_data(URLs.MNIST_SAMPLE)"
   ]
  },
  {
   "cell_type": "code",
   "execution_count": 28,
   "id": "occasional-expression",
   "metadata": {},
   "outputs": [
    {
     "data": {
      "text/plain": [
       "(#3) [Path('C:/Users/Archel/.fastai/data/mnist_sample/labels.csv'),Path('C:/Users/Archel/.fastai/data/mnist_sample/train'),Path('C:/Users/Archel/.fastai/data/mnist_sample/valid')]"
      ]
     },
     "execution_count": 28,
     "metadata": {},
     "output_type": "execute_result"
    }
   ],
   "source": [
    "path.ls()"
   ]
  },
  {
   "cell_type": "code",
   "execution_count": 29,
   "id": "facial-messenger",
   "metadata": {},
   "outputs": [
    {
     "data": {
      "text/plain": [
       "(#2) [Path('C:/Users/Archel/.fastai/data/mnist_sample/train/3'),Path('C:/Users/Archel/.fastai/data/mnist_sample/train/7')]"
      ]
     },
     "execution_count": 29,
     "metadata": {},
     "output_type": "execute_result"
    }
   ],
   "source": [
    "(path/'train').ls()"
   ]
  },
  {
   "cell_type": "code",
   "execution_count": 30,
   "id": "protected-angle",
   "metadata": {},
   "outputs": [],
   "source": [
    "threes = (path/'train'/'3').ls()\n",
    "sevens = (path/'train'/'7').ls()"
   ]
  },
  {
   "cell_type": "code",
   "execution_count": 31,
   "id": "played-crawford",
   "metadata": {},
   "outputs": [
    {
     "data": {
      "image/png": "[encoded data removed]",
      "text/plain": [
       "<PIL.PngImagePlugin.PngImageFile image mode=L size=28x28 at 0x19A24C0E5E0>"
      ]
     },
     "execution_count": 31,
     "metadata": {},
     "output_type": "execute_result"
    }
   ],
   "source": [
    "im3_path = threes[0]\n",
    "im3 = Image.open(im3_path)\n",
    "im3"
   ]
  },
  {
   "cell_type": "code",
   "execution_count": 32,
   "id": "silver-label",
   "metadata": {},
   "outputs": [
    {
     "data": {
      "text/plain": [
       "array([[0, 0, 0, 0, 0, 0],\n",
       "       [0, 0, 0, 0, 0, 0],\n",
       "       [0, 0, 0, 0, 0, 0],\n",
       "       [0, 0, 0, 0, 0, 0],\n",
       "       [0, 0, 0, 0, 0, 0],\n",
       "       [0, 0, 0, 0, 0, 0]], dtype=uint8)"
      ]
     },
     "execution_count": 32,
     "metadata": {},
     "output_type": "execute_result"
    }
   ],
   "source": [
    "array(im3)[4:10, 4:10]"
   ]
  },
  {
   "cell_type": "code",
   "execution_count": 33,
   "id": "charged-vulnerability",
   "metadata": {},
   "outputs": [
    {
     "data": {
      "text/plain": [
       "tensor([[0, 0, 0, 0, 0, 0],\n",
       "        [0, 0, 0, 0, 0, 0],\n",
       "        [0, 0, 0, 0, 0, 0],\n",
       "        [0, 0, 0, 0, 0, 0],\n",
       "        [0, 0, 0, 0, 0, 0],\n",
       "        [0, 0, 0, 0, 0, 0]], dtype=torch.uint8)"
      ]
     },
     "execution_count": 33,
     "metadata": {},
     "output_type": "execute_result"
    }
   ],
   "source": [
    "tensor(im3)[4:10, 4:10]"
   ]
  },
  {
   "cell_type": "code",
   "execution_count": 34,
   "id": "minor-petersburg",
   "metadata": {},
   "outputs": [
    {
     "data": {
      "text/html": [
       "<style  type=\"text/css\" >\n",
       "#T_9e065_row0_col0,#T_9e065_row0_col1,#T_9e065_row0_col2,#T_9e065_row0_col3,#T_9e065_row0_col4,#T_9e065_row0_col5,#T_9e065_row0_col6,#T_9e065_row0_col10,#T_9e065_row0_col11,#T_9e065_row0_col12,#T_9e065_row0_col13,#T_9e065_row0_col14,#T_9e065_row0_col15,#T_9e065_row0_col16,#T_9e065_row0_col17,#T_9e065_row1_col0,#T_9e065_row1_col1,#T_9e065_row1_col2,#T_9e065_row1_col3,#T_9e065_row1_col4,#T_9e065_row1_col5,#T_9e065_row1_col14,#T_9e065_row1_col15,#T_9e065_row1_col16,#T_9e065_row1_col17,#T_9e065_row2_col0,#T_9e065_row2_col1,#T_9e065_row2_col2,#T_9e065_row2_col3,#T_9e065_row2_col4,#T_9e065_row2_col5,#T_9e065_row2_col15,#T_9e065_row2_col16,#T_9e065_row2_col17,#T_9e065_row3_col0,#T_9e065_row3_col1,#T_9e065_row3_col2,#T_9e065_row3_col3,#T_9e065_row3_col4,#T_9e065_row3_col5,#T_9e065_row3_col6,#T_9e065_row3_col15,#T_9e065_row3_col16,#T_9e065_row3_col17,#T_9e065_row4_col0,#T_9e065_row4_col1,#T_9e065_row4_col2,#T_9e065_row4_col3,#T_9e065_row4_col4,#T_9e065_row4_col5,#T_9e065_row4_col6,#T_9e065_row4_col7,#T_9e065_row4_col15,#T_9e065_row4_col16,#T_9e065_row4_col17,#T_9e065_row5_col0,#T_9e065_row5_col1,#T_9e065_row5_col2,#T_9e065_row5_col3,#T_9e065_row5_col4,#T_9e065_row5_col5,#T_9e065_row5_col6,#T_9e065_row5_col7,#T_9e065_row5_col15,#T_9e065_row5_col16,#T_9e065_row5_col17,#T_9e065_row6_col0,#T_9e065_row6_col1,#T_9e065_row6_col2,#T_9e065_row6_col3,#T_9e065_row6_col4,#T_9e065_row6_col5,#T_9e065_row6_col6,#T_9e065_row6_col7,#T_9e065_row6_col8,#T_9e065_row6_col9,#T_9e065_row6_col15,#T_9e065_row6_col16,#T_9e065_row6_col17,#T_9e065_row7_col0,#T_9e065_row7_col1,#T_9e065_row7_col2,#T_9e065_row7_col3,#T_9e065_row7_col4,#T_9e065_row7_col5,#T_9e065_row7_col6,#T_9e065_row7_col7,#T_9e065_row7_col15,#T_9e065_row7_col16,#T_9e065_row7_col17,#T_9e065_row8_col0,#T_9e065_row8_col1,#T_9e065_row8_col2,#T_9e065_row8_col3,#T_9e065_row8_col4,#T_9e065_row8_col5,#T_9e065_row8_col15,#T_9e065_row8_col16,#T_9e065_row8_col17,#T_9e065_row9_col0,#T_9e065_row9_col1,#T_9e065_row9_col2,#T_9e065_row9_col3,#T_9e065_row9_col4,#T_9e065_row9_col5,#T_9e065_row9_col15,#T_9e065_row9_col16,#T_9e065_row9_col17,#T_9e065_row10_col0,#T_9e065_row10_col1,#T_9e065_row10_col2,#T_9e065_row10_col3,#T_9e065_row10_col4,#T_9e065_row10_col5,#T_9e065_row10_col6,#T_9e065_row10_col15,#T_9e065_row10_col16,#T_9e065_row10_col17{\n",
       "            font-size:  6pt;\n",
       "            background-color:  #ffffff;\n",
       "            color:  #000000;\n",
       "        }#T_9e065_row0_col7{\n",
       "            font-size:  6pt;\n",
       "            background-color:  #e8e8e8;\n",
       "            color:  #000000;\n",
       "        }#T_9e065_row0_col8{\n",
       "            font-size:  6pt;\n",
       "            background-color:  #a2a2a2;\n",
       "            color:  #000000;\n",
       "        }#T_9e065_row0_col9{\n",
       "            font-size:  6pt;\n",
       "            background-color:  #2e2e2e;\n",
       "            color:  #f1f1f1;\n",
       "        }#T_9e065_row1_col6,#T_9e065_row1_col8,#T_9e065_row1_col9,#T_9e065_row1_col10,#T_9e065_row1_col11,#T_9e065_row1_col12,#T_9e065_row2_col8,#T_9e065_row2_col9,#T_9e065_row2_col10,#T_9e065_row2_col11,#T_9e065_row2_col12,#T_9e065_row3_col9,#T_9e065_row3_col11,#T_9e065_row3_col12,#T_9e065_row3_col13,#T_9e065_row4_col9,#T_9e065_row4_col11,#T_9e065_row4_col12,#T_9e065_row4_col13,#T_9e065_row5_col10,#T_9e065_row5_col11,#T_9e065_row5_col12,#T_9e065_row5_col13,#T_9e065_row6_col11,#T_9e065_row6_col12,#T_9e065_row6_col13,#T_9e065_row6_col14,#T_9e065_row7_col11,#T_9e065_row7_col12,#T_9e065_row7_col13,#T_9e065_row8_col9,#T_9e065_row8_col10,#T_9e065_row8_col11,#T_9e065_row8_col12,#T_9e065_row8_col13,#T_9e065_row9_col7,#T_9e065_row9_col8,#T_9e065_row9_col9,#T_9e065_row9_col10,#T_9e065_row9_col11,#T_9e065_row9_col12,#T_9e065_row9_col13,#T_9e065_row10_col9,#T_9e065_row10_col10,#T_9e065_row10_col11,#T_9e065_row10_col12,#T_9e065_row10_col13,#T_9e065_row10_col14{\n",
       "            font-size:  6pt;\n",
       "            background-color:  #000000;\n",
       "            color:  #f1f1f1;\n",
       "        }#T_9e065_row1_col7{\n",
       "            font-size:  6pt;\n",
       "            background-color:  #060606;\n",
       "            color:  #f1f1f1;\n",
       "        }#T_9e065_row1_col13,#T_9e065_row5_col14{\n",
       "            font-size:  6pt;\n",
       "            background-color:  #dbdbdb;\n",
       "            color:  #000000;\n",
       "        }#T_9e065_row2_col6{\n",
       "            font-size:  6pt;\n",
       "            background-color:  #e7e7e7;\n",
       "            color:  #000000;\n",
       "        }#T_9e065_row2_col7{\n",
       "            font-size:  6pt;\n",
       "            background-color:  #111111;\n",
       "            color:  #f1f1f1;\n",
       "        }#T_9e065_row2_col13{\n",
       "            font-size:  6pt;\n",
       "            background-color:  #131313;\n",
       "            color:  #f1f1f1;\n",
       "        }#T_9e065_row2_col14{\n",
       "            font-size:  6pt;\n",
       "            background-color:  #b3b3b3;\n",
       "            color:  #000000;\n",
       "        }#T_9e065_row3_col7{\n",
       "            font-size:  6pt;\n",
       "            background-color:  #afafaf;\n",
       "            color:  #000000;\n",
       "        }#T_9e065_row3_col8{\n",
       "            font-size:  6pt;\n",
       "            background-color:  #0c0c0c;\n",
       "            color:  #f1f1f1;\n",
       "        }#T_9e065_row3_col10{\n",
       "            font-size:  6pt;\n",
       "            background-color:  #6a6a6a;\n",
       "            color:  #000000;\n",
       "        }#T_9e065_row3_col14{\n",
       "            font-size:  6pt;\n",
       "            background-color:  #363636;\n",
       "            color:  #f1f1f1;\n",
       "        }#T_9e065_row4_col8{\n",
       "            font-size:  6pt;\n",
       "            background-color:  #3a3a3a;\n",
       "            color:  #f1f1f1;\n",
       "        }#T_9e065_row4_col10{\n",
       "            font-size:  6pt;\n",
       "            background-color:  #959595;\n",
       "            color:  #000000;\n",
       "        }#T_9e065_row4_col14,#T_9e065_row8_col14{\n",
       "            font-size:  6pt;\n",
       "            background-color:  #e3e3e3;\n",
       "            color:  #000000;\n",
       "        }#T_9e065_row5_col8{\n",
       "            font-size:  6pt;\n",
       "            background-color:  #c7c7c7;\n",
       "            color:  #000000;\n",
       "        }#T_9e065_row5_col9{\n",
       "            font-size:  6pt;\n",
       "            background-color:  #434343;\n",
       "            color:  #f1f1f1;\n",
       "        }#T_9e065_row6_col10,#T_9e065_row7_col9{\n",
       "            font-size:  6pt;\n",
       "            background-color:  #999999;\n",
       "            color:  #000000;\n",
       "        }#T_9e065_row7_col8{\n",
       "            font-size:  6pt;\n",
       "            background-color:  #c1c1c1;\n",
       "            color:  #000000;\n",
       "        }#T_9e065_row7_col10{\n",
       "            font-size:  6pt;\n",
       "            background-color:  #020202;\n",
       "            color:  #f1f1f1;\n",
       "        }#T_9e065_row7_col14{\n",
       "            font-size:  6pt;\n",
       "            background-color:  #6b6b6b;\n",
       "            color:  #000000;\n",
       "        }#T_9e065_row8_col6{\n",
       "            font-size:  6pt;\n",
       "            background-color:  #b9b9b9;\n",
       "            color:  #000000;\n",
       "        }#T_9e065_row8_col7{\n",
       "            font-size:  6pt;\n",
       "            background-color:  #282828;\n",
       "            color:  #f1f1f1;\n",
       "        }#T_9e065_row8_col8{\n",
       "            font-size:  6pt;\n",
       "            background-color:  #050505;\n",
       "            color:  #f1f1f1;\n",
       "        }#T_9e065_row9_col6{\n",
       "            font-size:  6pt;\n",
       "            background-color:  #444444;\n",
       "            color:  #f1f1f1;\n",
       "        }#T_9e065_row9_col14{\n",
       "            font-size:  6pt;\n",
       "            background-color:  #2c2c2c;\n",
       "            color:  #f1f1f1;\n",
       "        }#T_9e065_row10_col7{\n",
       "            font-size:  6pt;\n",
       "            background-color:  #a7a7a7;\n",
       "            color:  #000000;\n",
       "        }#T_9e065_row10_col8{\n",
       "            font-size:  6pt;\n",
       "            background-color:  #090909;\n",
       "            color:  #f1f1f1;\n",
       "        }</style><table id=\"T_9e065_\" ><thead>    <tr>        <th class=\"blank level0\" ></th>        <th class=\"col_heading level0 col0\" >0</th>        <th class=\"col_heading level0 col1\" >1</th>        <th class=\"col_heading level0 col2\" >2</th>        <th class=\"col_heading level0 col3\" >3</th>        <th class=\"col_heading level0 col4\" >4</th>        <th class=\"col_heading level0 col5\" >5</th>        <th class=\"col_heading level0 col6\" >6</th>        <th class=\"col_heading level0 col7\" >7</th>        <th class=\"col_heading level0 col8\" >8</th>        <th class=\"col_heading level0 col9\" >9</th>        <th class=\"col_heading level0 col10\" >10</th>        <th class=\"col_heading level0 col11\" >11</th>        <th class=\"col_heading level0 col12\" >12</th>        <th class=\"col_heading level0 col13\" >13</th>        <th class=\"col_heading level0 col14\" >14</th>        <th class=\"col_heading level0 col15\" >15</th>        <th class=\"col_heading level0 col16\" >16</th>        <th class=\"col_heading level0 col17\" >17</th>    </tr></thead><tbody>\n",
       "                <tr>\n",
       "                        <th id=\"T_9e065_level0_row0\" class=\"row_heading level0 row0\" >0</th>\n",
       "                        <td id=\"T_9e065_row0_col0\" class=\"data row0 col0\" >0</td>\n",
       "                        <td id=\"T_9e065_row0_col1\" class=\"data row0 col1\" >0</td>\n",
       "                        <td id=\"T_9e065_row0_col2\" class=\"data row0 col2\" >0</td>\n",
       "                        <td id=\"T_9e065_row0_col3\" class=\"data row0 col3\" >0</td>\n",
       "                        <td id=\"T_9e065_row0_col4\" class=\"data row0 col4\" >0</td>\n",
       "                        <td id=\"T_9e065_row0_col5\" class=\"data row0 col5\" >0</td>\n",
       "                        <td id=\"T_9e065_row0_col6\" class=\"data row0 col6\" >0</td>\n",
       "                        <td id=\"T_9e065_row0_col7\" class=\"data row0 col7\" >42</td>\n",
       "                        <td id=\"T_9e065_row0_col8\" class=\"data row0 col8\" >118</td>\n",
       "                        <td id=\"T_9e065_row0_col9\" class=\"data row0 col9\" >219</td>\n",
       "                        <td id=\"T_9e065_row0_col10\" class=\"data row0 col10\" >166</td>\n",
       "                        <td id=\"T_9e065_row0_col11\" class=\"data row0 col11\" >118</td>\n",
       "                        <td id=\"T_9e065_row0_col12\" class=\"data row0 col12\" >118</td>\n",
       "                        <td id=\"T_9e065_row0_col13\" class=\"data row0 col13\" >6</td>\n",
       "                        <td id=\"T_9e065_row0_col14\" class=\"data row0 col14\" >0</td>\n",
       "                        <td id=\"T_9e065_row0_col15\" class=\"data row0 col15\" >0</td>\n",
       "                        <td id=\"T_9e065_row0_col16\" class=\"data row0 col16\" >0</td>\n",
       "                        <td id=\"T_9e065_row0_col17\" class=\"data row0 col17\" >0</td>\n",
       "            </tr>\n",
       "            <tr>\n",
       "                        <th id=\"T_9e065_level0_row1\" class=\"row_heading level0 row1\" >1</th>\n",
       "                        <td id=\"T_9e065_row1_col0\" class=\"data row1 col0\" >0</td>\n",
       "                        <td id=\"T_9e065_row1_col1\" class=\"data row1 col1\" >0</td>\n",
       "                        <td id=\"T_9e065_row1_col2\" class=\"data row1 col2\" >0</td>\n",
       "                        <td id=\"T_9e065_row1_col3\" class=\"data row1 col3\" >0</td>\n",
       "                        <td id=\"T_9e065_row1_col4\" class=\"data row1 col4\" >0</td>\n",
       "                        <td id=\"T_9e065_row1_col5\" class=\"data row1 col5\" >0</td>\n",
       "                        <td id=\"T_9e065_row1_col6\" class=\"data row1 col6\" >103</td>\n",
       "                        <td id=\"T_9e065_row1_col7\" class=\"data row1 col7\" >242</td>\n",
       "                        <td id=\"T_9e065_row1_col8\" class=\"data row1 col8\" >254</td>\n",
       "                        <td id=\"T_9e065_row1_col9\" class=\"data row1 col9\" >254</td>\n",
       "                        <td id=\"T_9e065_row1_col10\" class=\"data row1 col10\" >254</td>\n",
       "                        <td id=\"T_9e065_row1_col11\" class=\"data row1 col11\" >254</td>\n",
       "                        <td id=\"T_9e065_row1_col12\" class=\"data row1 col12\" >254</td>\n",
       "                        <td id=\"T_9e065_row1_col13\" class=\"data row1 col13\" >66</td>\n",
       "                        <td id=\"T_9e065_row1_col14\" class=\"data row1 col14\" >0</td>\n",
       "                        <td id=\"T_9e065_row1_col15\" class=\"data row1 col15\" >0</td>\n",
       "                        <td id=\"T_9e065_row1_col16\" class=\"data row1 col16\" >0</td>\n",
       "                        <td id=\"T_9e065_row1_col17\" class=\"data row1 col17\" >0</td>\n",
       "            </tr>\n",
       "            <tr>\n",
       "                        <th id=\"T_9e065_level0_row2\" class=\"row_heading level0 row2\" >2</th>\n",
       "                        <td id=\"T_9e065_row2_col0\" class=\"data row2 col0\" >0</td>\n",
       "                        <td id=\"T_9e065_row2_col1\" class=\"data row2 col1\" >0</td>\n",
       "                        <td id=\"T_9e065_row2_col2\" class=\"data row2 col2\" >0</td>\n",
       "                        <td id=\"T_9e065_row2_col3\" class=\"data row2 col3\" >0</td>\n",
       "                        <td id=\"T_9e065_row2_col4\" class=\"data row2 col4\" >0</td>\n",
       "                        <td id=\"T_9e065_row2_col5\" class=\"data row2 col5\" >0</td>\n",
       "                        <td id=\"T_9e065_row2_col6\" class=\"data row2 col6\" >18</td>\n",
       "                        <td id=\"T_9e065_row2_col7\" class=\"data row2 col7\" >232</td>\n",
       "                        <td id=\"T_9e065_row2_col8\" class=\"data row2 col8\" >254</td>\n",
       "                        <td id=\"T_9e065_row2_col9\" class=\"data row2 col9\" >254</td>\n",
       "                        <td id=\"T_9e065_row2_col10\" class=\"data row2 col10\" >254</td>\n",
       "                        <td id=\"T_9e065_row2_col11\" class=\"data row2 col11\" >254</td>\n",
       "                        <td id=\"T_9e065_row2_col12\" class=\"data row2 col12\" >254</td>\n",
       "                        <td id=\"T_9e065_row2_col13\" class=\"data row2 col13\" >238</td>\n",
       "                        <td id=\"T_9e065_row2_col14\" class=\"data row2 col14\" >70</td>\n",
       "                        <td id=\"T_9e065_row2_col15\" class=\"data row2 col15\" >0</td>\n",
       "                        <td id=\"T_9e065_row2_col16\" class=\"data row2 col16\" >0</td>\n",
       "                        <td id=\"T_9e065_row2_col17\" class=\"data row2 col17\" >0</td>\n",
       "            </tr>\n",
       "            <tr>\n",
       "                        <th id=\"T_9e065_level0_row3\" class=\"row_heading level0 row3\" >3</th>\n",
       "                        <td id=\"T_9e065_row3_col0\" class=\"data row3 col0\" >0</td>\n",
       "                        <td id=\"T_9e065_row3_col1\" class=\"data row3 col1\" >0</td>\n",
       "                        <td id=\"T_9e065_row3_col2\" class=\"data row3 col2\" >0</td>\n",
       "                        <td id=\"T_9e065_row3_col3\" class=\"data row3 col3\" >0</td>\n",
       "                        <td id=\"T_9e065_row3_col4\" class=\"data row3 col4\" >0</td>\n",
       "                        <td id=\"T_9e065_row3_col5\" class=\"data row3 col5\" >0</td>\n",
       "                        <td id=\"T_9e065_row3_col6\" class=\"data row3 col6\" >0</td>\n",
       "                        <td id=\"T_9e065_row3_col7\" class=\"data row3 col7\" >104</td>\n",
       "                        <td id=\"T_9e065_row3_col8\" class=\"data row3 col8\" >244</td>\n",
       "                        <td id=\"T_9e065_row3_col9\" class=\"data row3 col9\" >254</td>\n",
       "                        <td id=\"T_9e065_row3_col10\" class=\"data row3 col10\" >224</td>\n",
       "                        <td id=\"T_9e065_row3_col11\" class=\"data row3 col11\" >254</td>\n",
       "                        <td id=\"T_9e065_row3_col12\" class=\"data row3 col12\" >254</td>\n",
       "                        <td id=\"T_9e065_row3_col13\" class=\"data row3 col13\" >254</td>\n",
       "                        <td id=\"T_9e065_row3_col14\" class=\"data row3 col14\" >141</td>\n",
       "                        <td id=\"T_9e065_row3_col15\" class=\"data row3 col15\" >0</td>\n",
       "                        <td id=\"T_9e065_row3_col16\" class=\"data row3 col16\" >0</td>\n",
       "                        <td id=\"T_9e065_row3_col17\" class=\"data row3 col17\" >0</td>\n",
       "            </tr>\n",
       "            <tr>\n",
       "                        <th id=\"T_9e065_level0_row4\" class=\"row_heading level0 row4\" >4</th>\n",
       "                        <td id=\"T_9e065_row4_col0\" class=\"data row4 col0\" >0</td>\n",
       "                        <td id=\"T_9e065_row4_col1\" class=\"data row4 col1\" >0</td>\n",
       "                        <td id=\"T_9e065_row4_col2\" class=\"data row4 col2\" >0</td>\n",
       "                        <td id=\"T_9e065_row4_col3\" class=\"data row4 col3\" >0</td>\n",
       "                        <td id=\"T_9e065_row4_col4\" class=\"data row4 col4\" >0</td>\n",
       "                        <td id=\"T_9e065_row4_col5\" class=\"data row4 col5\" >0</td>\n",
       "                        <td id=\"T_9e065_row4_col6\" class=\"data row4 col6\" >0</td>\n",
       "                        <td id=\"T_9e065_row4_col7\" class=\"data row4 col7\" >0</td>\n",
       "                        <td id=\"T_9e065_row4_col8\" class=\"data row4 col8\" >207</td>\n",
       "                        <td id=\"T_9e065_row4_col9\" class=\"data row4 col9\" >254</td>\n",
       "                        <td id=\"T_9e065_row4_col10\" class=\"data row4 col10\" >210</td>\n",
       "                        <td id=\"T_9e065_row4_col11\" class=\"data row4 col11\" >254</td>\n",
       "                        <td id=\"T_9e065_row4_col12\" class=\"data row4 col12\" >254</td>\n",
       "                        <td id=\"T_9e065_row4_col13\" class=\"data row4 col13\" >254</td>\n",
       "                        <td id=\"T_9e065_row4_col14\" class=\"data row4 col14\" >34</td>\n",
       "                        <td id=\"T_9e065_row4_col15\" class=\"data row4 col15\" >0</td>\n",
       "                        <td id=\"T_9e065_row4_col16\" class=\"data row4 col16\" >0</td>\n",
       "                        <td id=\"T_9e065_row4_col17\" class=\"data row4 col17\" >0</td>\n",
       "            </tr>\n",
       "            <tr>\n",
       "                        <th id=\"T_9e065_level0_row5\" class=\"row_heading level0 row5\" >5</th>\n",
       "                        <td id=\"T_9e065_row5_col0\" class=\"data row5 col0\" >0</td>\n",
       "                        <td id=\"T_9e065_row5_col1\" class=\"data row5 col1\" >0</td>\n",
       "                        <td id=\"T_9e065_row5_col2\" class=\"data row5 col2\" >0</td>\n",
       "                        <td id=\"T_9e065_row5_col3\" class=\"data row5 col3\" >0</td>\n",
       "                        <td id=\"T_9e065_row5_col4\" class=\"data row5 col4\" >0</td>\n",
       "                        <td id=\"T_9e065_row5_col5\" class=\"data row5 col5\" >0</td>\n",
       "                        <td id=\"T_9e065_row5_col6\" class=\"data row5 col6\" >0</td>\n",
       "                        <td id=\"T_9e065_row5_col7\" class=\"data row5 col7\" >0</td>\n",
       "                        <td id=\"T_9e065_row5_col8\" class=\"data row5 col8\" >84</td>\n",
       "                        <td id=\"T_9e065_row5_col9\" class=\"data row5 col9\" >206</td>\n",
       "                        <td id=\"T_9e065_row5_col10\" class=\"data row5 col10\" >254</td>\n",
       "                        <td id=\"T_9e065_row5_col11\" class=\"data row5 col11\" >254</td>\n",
       "                        <td id=\"T_9e065_row5_col12\" class=\"data row5 col12\" >254</td>\n",
       "                        <td id=\"T_9e065_row5_col13\" class=\"data row5 col13\" >254</td>\n",
       "                        <td id=\"T_9e065_row5_col14\" class=\"data row5 col14\" >41</td>\n",
       "                        <td id=\"T_9e065_row5_col15\" class=\"data row5 col15\" >0</td>\n",
       "                        <td id=\"T_9e065_row5_col16\" class=\"data row5 col16\" >0</td>\n",
       "                        <td id=\"T_9e065_row5_col17\" class=\"data row5 col17\" >0</td>\n",
       "            </tr>\n",
       "            <tr>\n",
       "                        <th id=\"T_9e065_level0_row6\" class=\"row_heading level0 row6\" >6</th>\n",
       "                        <td id=\"T_9e065_row6_col0\" class=\"data row6 col0\" >0</td>\n",
       "                        <td id=\"T_9e065_row6_col1\" class=\"data row6 col1\" >0</td>\n",
       "                        <td id=\"T_9e065_row6_col2\" class=\"data row6 col2\" >0</td>\n",
       "                        <td id=\"T_9e065_row6_col3\" class=\"data row6 col3\" >0</td>\n",
       "                        <td id=\"T_9e065_row6_col4\" class=\"data row6 col4\" >0</td>\n",
       "                        <td id=\"T_9e065_row6_col5\" class=\"data row6 col5\" >0</td>\n",
       "                        <td id=\"T_9e065_row6_col6\" class=\"data row6 col6\" >0</td>\n",
       "                        <td id=\"T_9e065_row6_col7\" class=\"data row6 col7\" >0</td>\n",
       "                        <td id=\"T_9e065_row6_col8\" class=\"data row6 col8\" >0</td>\n",
       "                        <td id=\"T_9e065_row6_col9\" class=\"data row6 col9\" >24</td>\n",
       "                        <td id=\"T_9e065_row6_col10\" class=\"data row6 col10\" >209</td>\n",
       "                        <td id=\"T_9e065_row6_col11\" class=\"data row6 col11\" >254</td>\n",
       "                        <td id=\"T_9e065_row6_col12\" class=\"data row6 col12\" >254</td>\n",
       "                        <td id=\"T_9e065_row6_col13\" class=\"data row6 col13\" >254</td>\n",
       "                        <td id=\"T_9e065_row6_col14\" class=\"data row6 col14\" >171</td>\n",
       "                        <td id=\"T_9e065_row6_col15\" class=\"data row6 col15\" >0</td>\n",
       "                        <td id=\"T_9e065_row6_col16\" class=\"data row6 col16\" >0</td>\n",
       "                        <td id=\"T_9e065_row6_col17\" class=\"data row6 col17\" >0</td>\n",
       "            </tr>\n",
       "            <tr>\n",
       "                        <th id=\"T_9e065_level0_row7\" class=\"row_heading level0 row7\" >7</th>\n",
       "                        <td id=\"T_9e065_row7_col0\" class=\"data row7 col0\" >0</td>\n",
       "                        <td id=\"T_9e065_row7_col1\" class=\"data row7 col1\" >0</td>\n",
       "                        <td id=\"T_9e065_row7_col2\" class=\"data row7 col2\" >0</td>\n",
       "                        <td id=\"T_9e065_row7_col3\" class=\"data row7 col3\" >0</td>\n",
       "                        <td id=\"T_9e065_row7_col4\" class=\"data row7 col4\" >0</td>\n",
       "                        <td id=\"T_9e065_row7_col5\" class=\"data row7 col5\" >0</td>\n",
       "                        <td id=\"T_9e065_row7_col6\" class=\"data row7 col6\" >0</td>\n",
       "                        <td id=\"T_9e065_row7_col7\" class=\"data row7 col7\" >0</td>\n",
       "                        <td id=\"T_9e065_row7_col8\" class=\"data row7 col8\" >91</td>\n",
       "                        <td id=\"T_9e065_row7_col9\" class=\"data row7 col9\" >137</td>\n",
       "                        <td id=\"T_9e065_row7_col10\" class=\"data row7 col10\" >253</td>\n",
       "                        <td id=\"T_9e065_row7_col11\" class=\"data row7 col11\" >254</td>\n",
       "                        <td id=\"T_9e065_row7_col12\" class=\"data row7 col12\" >254</td>\n",
       "                        <td id=\"T_9e065_row7_col13\" class=\"data row7 col13\" >254</td>\n",
       "                        <td id=\"T_9e065_row7_col14\" class=\"data row7 col14\" >112</td>\n",
       "                        <td id=\"T_9e065_row7_col15\" class=\"data row7 col15\" >0</td>\n",
       "                        <td id=\"T_9e065_row7_col16\" class=\"data row7 col16\" >0</td>\n",
       "                        <td id=\"T_9e065_row7_col17\" class=\"data row7 col17\" >0</td>\n",
       "            </tr>\n",
       "            <tr>\n",
       "                        <th id=\"T_9e065_level0_row8\" class=\"row_heading level0 row8\" >8</th>\n",
       "                        <td id=\"T_9e065_row8_col0\" class=\"data row8 col0\" >0</td>\n",
       "                        <td id=\"T_9e065_row8_col1\" class=\"data row8 col1\" >0</td>\n",
       "                        <td id=\"T_9e065_row8_col2\" class=\"data row8 col2\" >0</td>\n",
       "                        <td id=\"T_9e065_row8_col3\" class=\"data row8 col3\" >0</td>\n",
       "                        <td id=\"T_9e065_row8_col4\" class=\"data row8 col4\" >0</td>\n",
       "                        <td id=\"T_9e065_row8_col5\" class=\"data row8 col5\" >0</td>\n",
       "                        <td id=\"T_9e065_row8_col6\" class=\"data row8 col6\" >40</td>\n",
       "                        <td id=\"T_9e065_row8_col7\" class=\"data row8 col7\" >214</td>\n",
       "                        <td id=\"T_9e065_row8_col8\" class=\"data row8 col8\" >250</td>\n",
       "                        <td id=\"T_9e065_row8_col9\" class=\"data row8 col9\" >254</td>\n",
       "                        <td id=\"T_9e065_row8_col10\" class=\"data row8 col10\" >254</td>\n",
       "                        <td id=\"T_9e065_row8_col11\" class=\"data row8 col11\" >254</td>\n",
       "                        <td id=\"T_9e065_row8_col12\" class=\"data row8 col12\" >254</td>\n",
       "                        <td id=\"T_9e065_row8_col13\" class=\"data row8 col13\" >254</td>\n",
       "                        <td id=\"T_9e065_row8_col14\" class=\"data row8 col14\" >34</td>\n",
       "                        <td id=\"T_9e065_row8_col15\" class=\"data row8 col15\" >0</td>\n",
       "                        <td id=\"T_9e065_row8_col16\" class=\"data row8 col16\" >0</td>\n",
       "                        <td id=\"T_9e065_row8_col17\" class=\"data row8 col17\" >0</td>\n",
       "            </tr>\n",
       "            <tr>\n",
       "                        <th id=\"T_9e065_level0_row9\" class=\"row_heading level0 row9\" >9</th>\n",
       "                        <td id=\"T_9e065_row9_col0\" class=\"data row9 col0\" >0</td>\n",
       "                        <td id=\"T_9e065_row9_col1\" class=\"data row9 col1\" >0</td>\n",
       "                        <td id=\"T_9e065_row9_col2\" class=\"data row9 col2\" >0</td>\n",
       "                        <td id=\"T_9e065_row9_col3\" class=\"data row9 col3\" >0</td>\n",
       "                        <td id=\"T_9e065_row9_col4\" class=\"data row9 col4\" >0</td>\n",
       "                        <td id=\"T_9e065_row9_col5\" class=\"data row9 col5\" >0</td>\n",
       "                        <td id=\"T_9e065_row9_col6\" class=\"data row9 col6\" >81</td>\n",
       "                        <td id=\"T_9e065_row9_col7\" class=\"data row9 col7\" >247</td>\n",
       "                        <td id=\"T_9e065_row9_col8\" class=\"data row9 col8\" >254</td>\n",
       "                        <td id=\"T_9e065_row9_col9\" class=\"data row9 col9\" >254</td>\n",
       "                        <td id=\"T_9e065_row9_col10\" class=\"data row9 col10\" >254</td>\n",
       "                        <td id=\"T_9e065_row9_col11\" class=\"data row9 col11\" >254</td>\n",
       "                        <td id=\"T_9e065_row9_col12\" class=\"data row9 col12\" >254</td>\n",
       "                        <td id=\"T_9e065_row9_col13\" class=\"data row9 col13\" >254</td>\n",
       "                        <td id=\"T_9e065_row9_col14\" class=\"data row9 col14\" >146</td>\n",
       "                        <td id=\"T_9e065_row9_col15\" class=\"data row9 col15\" >0</td>\n",
       "                        <td id=\"T_9e065_row9_col16\" class=\"data row9 col16\" >0</td>\n",
       "                        <td id=\"T_9e065_row9_col17\" class=\"data row9 col17\" >0</td>\n",
       "            </tr>\n",
       "            <tr>\n",
       "                        <th id=\"T_9e065_level0_row10\" class=\"row_heading level0 row10\" >10</th>\n",
       "                        <td id=\"T_9e065_row10_col0\" class=\"data row10 col0\" >0</td>\n",
       "                        <td id=\"T_9e065_row10_col1\" class=\"data row10 col1\" >0</td>\n",
       "                        <td id=\"T_9e065_row10_col2\" class=\"data row10 col2\" >0</td>\n",
       "                        <td id=\"T_9e065_row10_col3\" class=\"data row10 col3\" >0</td>\n",
       "                        <td id=\"T_9e065_row10_col4\" class=\"data row10 col4\" >0</td>\n",
       "                        <td id=\"T_9e065_row10_col5\" class=\"data row10 col5\" >0</td>\n",
       "                        <td id=\"T_9e065_row10_col6\" class=\"data row10 col6\" >0</td>\n",
       "                        <td id=\"T_9e065_row10_col7\" class=\"data row10 col7\" >110</td>\n",
       "                        <td id=\"T_9e065_row10_col8\" class=\"data row10 col8\" >246</td>\n",
       "                        <td id=\"T_9e065_row10_col9\" class=\"data row10 col9\" >254</td>\n",
       "                        <td id=\"T_9e065_row10_col10\" class=\"data row10 col10\" >254</td>\n",
       "                        <td id=\"T_9e065_row10_col11\" class=\"data row10 col11\" >254</td>\n",
       "                        <td id=\"T_9e065_row10_col12\" class=\"data row10 col12\" >254</td>\n",
       "                        <td id=\"T_9e065_row10_col13\" class=\"data row10 col13\" >254</td>\n",
       "                        <td id=\"T_9e065_row10_col14\" class=\"data row10 col14\" >171</td>\n",
       "                        <td id=\"T_9e065_row10_col15\" class=\"data row10 col15\" >0</td>\n",
       "                        <td id=\"T_9e065_row10_col16\" class=\"data row10 col16\" >0</td>\n",
       "                        <td id=\"T_9e065_row10_col17\" class=\"data row10 col17\" >0</td>\n",
       "            </tr>\n",
       "    </tbody></table>"
      ],
      "text/plain": [
       "<pandas.io.formats.style.Styler at 0x19a24c60430>"
      ]
     },
     "execution_count": 34,
     "metadata": {},
     "output_type": "execute_result"
    }
   ],
   "source": [
    "im3_t = tensor(im3)\n",
    "df = pd.DataFrame(im3_t[4:15, 4:22])\n",
    "df.style.set_properties(**{'font-size':'6pt'}).background_gradient('Greys')"
   ]
  },
  {
   "cell_type": "markdown",
   "id": "olive-executive",
   "metadata": {},
   "source": [
    "## Pixel Similarity"
   ]
  },
  {
   "cell_type": "code",
   "execution_count": 35,
   "id": "special-server",
   "metadata": {},
   "outputs": [
    {
     "data": {
      "text/plain": [
       "(6131, 6265)"
      ]
     },
     "execution_count": 35,
     "metadata": {},
     "output_type": "execute_result"
    }
   ],
   "source": [
    "three_tensors = [tensor(Image.open(f)) for f in threes]\n",
    "seven_tensors = [tensor(Image.open(f)) for f in sevens]\n",
    "len(three_tensors), len(seven_tensors)"
   ]
  },
  {
   "cell_type": "code",
   "execution_count": 36,
   "id": "upper-branch",
   "metadata": {},
   "outputs": [
    {
     "data": {
      "text/plain": [
       "<AxesSubplot:>"
      ]
     },
     "execution_count": 36,
     "metadata": {},
     "output_type": "execute_result"
    },
    {
     "data": {
      "image/png": "[encoded data removed]",
      "text/plain": [
       "<Figure size 72x72 with 1 Axes>"
      ]
     },
     "metadata": {
      "needs_background": "light"
     },
     "output_type": "display_data"
    }
   ],
   "source": [
    "show_image(three_tensors[0])"
   ]
  },
  {
   "cell_type": "code",
   "execution_count": 38,
   "id": "shared-constitutional",
   "metadata": {},
   "outputs": [],
   "source": [
    "stacked_threes = torch.stack(three_tensors).float()/255.\n",
    "stacked_sevens = torch.stack(seven_tensors).float()/255."
   ]
  },
  {
   "cell_type": "code",
   "execution_count": 40,
   "id": "expired-panel",
   "metadata": {},
   "outputs": [
    {
     "data": {
      "text/plain": [
       "(torch.Size([6131, 28, 28]), torch.Size([6265, 28, 28]))"
      ]
     },
     "execution_count": 40,
     "metadata": {},
     "output_type": "execute_result"
    }
   ],
   "source": [
    "stacked_threes.shape, stacked_sevens.shape"
   ]
  },
  {
   "cell_type": "code",
   "execution_count": 44,
   "id": "metallic-destiny",
   "metadata": {},
   "outputs": [
    {
     "data": {
      "text/plain": [
       "(3, True)"
      ]
     },
     "execution_count": 44,
     "metadata": {},
     "output_type": "execute_result"
    }
   ],
   "source": [
    "stacked_threes.ndim, stacked_threes.ndim == len(stacked_threes.shape)"
   ]
  },
  {
   "cell_type": "code",
   "execution_count": 50,
   "id": "comic-simon",
   "metadata": {},
   "outputs": [
    {
     "data": {
      "text/plain": [
       "<AxesSubplot:>"
      ]
     },
     "execution_count": 50,
     "metadata": {},
     "output_type": "execute_result"
    },
    {
     "data": {
      "image/png": "[encoded data removed]",
      "text/plain": [
       "<Figure size 72x72 with 1 Axes>"
      ]
     },
     "metadata": {
      "needs_background": "light"
     },
     "output_type": "display_data"
    }
   ],
   "source": [
    "mean_3 = stacked_threes.mean(0)\n",
    "show_image(mean_3)"
   ]
  },
  {
   "cell_type": "code",
   "execution_count": 51,
   "id": "communist-nursery",
   "metadata": {},
   "outputs": [
    {
     "data": {
      "text/plain": [
       "<AxesSubplot:>"
      ]
     },
     "execution_count": 51,
     "metadata": {},
     "output_type": "execute_result"
    },
    {
     "data": {
      "image/png": "[encoded data removed]",
      "text/plain": [
       "<Figure size 72x72 with 1 Axes>"
      ]
     },
     "metadata": {
      "needs_background": "light"
     },
     "output_type": "display_data"
    }
   ],
   "source": [
    "mean_7 = stacked_sevens.mean(0)\n",
    "show_image(mean_7)"
   ]
  },
  {
   "cell_type": "code",
   "execution_count": 53,
   "id": "cubic-avatar",
   "metadata": {},
   "outputs": [
    {
     "data": {
      "text/plain": [
       "<AxesSubplot:>"
      ]
     },
     "execution_count": 53,
     "metadata": {},
     "output_type": "execute_result"
    },
    {
     "data": {
      "image/png": "[encoded data removed]",
      "text/plain": [
       "<Figure size 72x72 with 1 Axes>"
      ]
     },
     "metadata": {
      "needs_background": "light"
     },
     "output_type": "display_data"
    }
   ],
   "source": [
    "a_3 = stacked_threes[1]\n",
    "show_image(a_3)"
   ]
  },
  {
   "cell_type": "code",
   "execution_count": 59,
   "id": "uniform-island",
   "metadata": {},
   "outputs": [
    {
     "data": {
      "text/plain": [
       "(tensor(0.1114), tensor(0.2021))"
      ]
     },
     "execution_count": 59,
     "metadata": {},
     "output_type": "execute_result"
    }
   ],
   "source": [
    "# MAE (Mean Absolute Error)\n",
    "dist_3_abs = (a_3 - mean_3).abs().mean()\n",
    "# RMSE (Root Mean Squared Error)\n",
    "dist_3_sqr = ((a_3 - mean_3) ** 2).mean().sqrt()\n",
    "dist_3_abs, dist_3_sqr"
   ]
  },
  {
   "cell_type": "code",
   "execution_count": 58,
   "id": "difficult-repository",
   "metadata": {},
   "outputs": [
    {
     "data": {
      "text/plain": [
       "(tensor(0.1586), tensor(0.3021))"
      ]
     },
     "execution_count": 58,
     "metadata": {},
     "output_type": "execute_result"
    }
   ],
   "source": [
    "# MAE (Mean Absolute Error)\n",
    "dist_7_abs = (a_3 - mean_7).abs().mean()\n",
    "# RMSE (Root Mean Squared Error)\n",
    "dist_7_sqr = ((a_3 - mean_7) ** 2).mean().sqrt()\n",
    "dist_7_abs, dist_7_sqr"
   ]
  },
  {
   "cell_type": "code",
   "execution_count": 61,
   "id": "extraordinary-punishment",
   "metadata": {},
   "outputs": [
    {
     "data": {
      "text/plain": [
       "(tensor(0.1114), tensor(0.1586))"
      ]
     },
     "execution_count": 61,
     "metadata": {},
     "output_type": "execute_result"
    }
   ],
   "source": [
    "# or use F.l1_loss\n",
    "F.l1_loss(a_3, mean_3), F.l1_loss(a_3, mean_7)"
   ]
  },
  {
   "cell_type": "code",
   "execution_count": 66,
   "id": "liable-maine",
   "metadata": {},
   "outputs": [
    {
     "data": {
      "text/plain": [
       "(torch.Size([1010, 28, 28]), torch.Size([1028, 28, 28]))"
      ]
     },
     "execution_count": 66,
     "metadata": {},
     "output_type": "execute_result"
    }
   ],
   "source": [
    "# validation set\n",
    "valid_3_t = torch.stack([tensor(Image.open(f)) for f in (path/'valid'/'3').ls()])\n",
    "valid_3_t = valid_3_t / 255.\n",
    "valid_7_t = torch.stack([tensor(Image.open(f)) for f in (path/'valid'/'7').ls()])\n",
    "valid_7_t = valid_7_t / 255.\n",
    "valid_3_t.shape, valid_7_t.shape"
   ]
  },
  {
   "cell_type": "code",
   "execution_count": 73,
   "id": "latin-trinidad",
   "metadata": {},
   "outputs": [],
   "source": [
    "def mnist_distance(a, b):\n",
    "#     return F.l1_loss(a, b)\n",
    "    return (a-b).abs().mean((-1,-2))"
   ]
  },
  {
   "cell_type": "code",
   "execution_count": 74,
   "id": "intelligent-nigeria",
   "metadata": {},
   "outputs": [
    {
     "data": {
      "text/plain": [
       "tensor(0.1114)"
      ]
     },
     "execution_count": 74,
     "metadata": {},
     "output_type": "execute_result"
    }
   ],
   "source": [
    "mnist_distance(a_3, mean_3)"
   ]
  },
  {
   "cell_type": "code",
   "execution_count": 76,
   "id": "rising-exemption",
   "metadata": {},
   "outputs": [
    {
     "data": {
      "text/plain": [
       "(tensor([0.1280, 0.1623, 0.1242,  ..., 0.1508, 0.1263, 0.1260]),\n",
       " torch.Size([1010]))"
      ]
     },
     "execution_count": 76,
     "metadata": {},
     "output_type": "execute_result"
    }
   ],
   "source": [
    "valid_3_dist = mnist_distance(valid_3_t, mean_3)\n",
    "valid_3_dist, valid_3_dist.shape"
   ]
  },
  {
   "cell_type": "code",
   "execution_count": 85,
   "id": "coral-repeat",
   "metadata": {},
   "outputs": [],
   "source": [
    "def is_3(x):\n",
    "    return mnist_distance(x, mean_3) < mnist_distance(x, mean_7)"
   ]
  },
  {
   "cell_type": "code",
   "execution_count": 86,
   "id": "clean-machine",
   "metadata": {},
   "outputs": [
    {
     "data": {
      "text/plain": [
       "(tensor(True), tensor(1.))"
      ]
     },
     "execution_count": 86,
     "metadata": {},
     "output_type": "execute_result"
    }
   ],
   "source": [
    "is_3(a_3), is_3(a_3).float()"
   ]
  },
  {
   "cell_type": "code",
   "execution_count": 87,
   "id": "norwegian-tactics",
   "metadata": {},
   "outputs": [
    {
     "data": {
      "text/plain": [
       "tensor([ True,  True,  True,  ..., False,  True,  True])"
      ]
     },
     "execution_count": 87,
     "metadata": {},
     "output_type": "execute_result"
    }
   ],
   "source": [
    "is_3(valid_3_t)"
   ]
  },
  {
   "cell_type": "code",
   "execution_count": 88,
   "id": "forbidden-burton",
   "metadata": {},
   "outputs": [
    {
     "data": {
      "text/plain": [
       "(tensor(0.9168), tensor(0.9854), tensor(0.9511))"
      ]
     },
     "execution_count": 88,
     "metadata": {},
     "output_type": "execute_result"
    }
   ],
   "source": [
    "accuracy_3 = is_3(valid_3_t).float().mean()\n",
    "accuracy_7 = 1 - is_3(valid_7_t).float().mean()\n",
    "accuracy_3, accuracy_7, (accuracy_3+accuracy_7)/2"
   ]
  },
  {
   "cell_type": "code",
   "execution_count": null,
   "id": "criminal-reservation",
   "metadata": {},
   "outputs": [],
   "source": []
  }
 ],
 "metadata": {
  "kernelspec": {
   "display_name": "Python 3",
   "language": "python",
   "name": "python3"
  },
  "language_info": {
   "codemirror_mode": {
    "name": "ipython",
    "version": 3
   },
   "file_extension": ".py",
   "mimetype": "text/x-python",
   "name": "python",
   "nbconvert_exporter": "python",
   "pygments_lexer": "ipython3",
   "version": "3.8.5"
  }
 },
 "nbformat": 4,
 "nbformat_minor": 5
}
