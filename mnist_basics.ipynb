{
 "cells": [
  {
   "cell_type": "markdown",
   "id": "chinese-samoa",
   "metadata": {},
   "source": [
    "# MNIST Basics"
   ]
  },
  {
   "cell_type": "code",
   "execution_count": 78,
   "id": "outstanding-potter",
   "metadata": {},
   "outputs": [],
   "source": [
    "from fastai2.vision.all import *"
   ]
  },
  {
   "cell_type": "code",
   "execution_count": 79,
   "id": "eight-proceeding",
   "metadata": {},
   "outputs": [],
   "source": [
    "path = untar_data(URLs.MNIST_SAMPLE)"
   ]
  },
  {
   "cell_type": "code",
   "execution_count": 80,
   "id": "opening-sacramento",
   "metadata": {},
   "outputs": [
    {
     "data": {
      "text/plain": [
       "(#3) [Path('C:/Users/Archel/.fastai/data/mnist_sample/labels.csv'),Path('C:/Users/Archel/.fastai/data/mnist_sample/train'),Path('C:/Users/Archel/.fastai/data/mnist_sample/valid')]"
      ]
     },
     "execution_count": 80,
     "metadata": {},
     "output_type": "execute_result"
    }
   ],
   "source": [
    "path.ls()"
   ]
  },
  {
   "cell_type": "code",
   "execution_count": 81,
   "id": "surgical-daisy",
   "metadata": {},
   "outputs": [
    {
     "data": {
      "text/plain": [
       "(#2) [Path('C:/Users/Archel/.fastai/data/mnist_sample/train/3'),Path('C:/Users/Archel/.fastai/data/mnist_sample/train/7')]"
      ]
     },
     "execution_count": 81,
     "metadata": {},
     "output_type": "execute_result"
    }
   ],
   "source": [
    "(path/'train').ls()"
   ]
  },
  {
   "cell_type": "code",
   "execution_count": 82,
   "id": "cardiovascular-contract",
   "metadata": {},
   "outputs": [],
   "source": [
    "threes = (path/'train'/'3').ls()\n",
    "sevens = (path/'train'/'7').ls()"
   ]
  },
  {
   "cell_type": "code",
   "execution_count": 83,
   "id": "realistic-railway",
   "metadata": {},
   "outputs": [
    {
     "data": {
      "image/png": "[encoded data removed]",
      "text/plain": [
       "<PIL.PngImagePlugin.PngImageFile image mode=L size=28x28 at 0x20205A63EE0>"
      ]
     },
     "execution_count": 83,
     "metadata": {},
     "output_type": "execute_result"
    }
   ],
   "source": [
    "im3_path = threes[0]\n",
    "im3 = Image.open(im3_path)\n",
    "im3"
   ]
  },
  {
   "cell_type": "code",
   "execution_count": 84,
   "id": "sexual-diploma",
   "metadata": {},
   "outputs": [
    {
     "data": {
      "text/plain": [
       "array([[0, 0, 0, 0, 0, 0],\n",
       "       [0, 0, 0, 0, 0, 0],\n",
       "       [0, 0, 0, 0, 0, 0],\n",
       "       [0, 0, 0, 0, 0, 0],\n",
       "       [0, 0, 0, 0, 0, 0],\n",
       "       [0, 0, 0, 0, 0, 0]], dtype=uint8)"
      ]
     },
     "execution_count": 84,
     "metadata": {},
     "output_type": "execute_result"
    }
   ],
   "source": [
    "array(im3)[4:10, 4:10]"
   ]
  },
  {
   "cell_type": "code",
   "execution_count": 85,
   "id": "round-essence",
   "metadata": {},
   "outputs": [
    {
     "data": {
      "text/plain": [
       "tensor([[0, 0, 0, 0, 0, 0],\n",
       "        [0, 0, 0, 0, 0, 0],\n",
       "        [0, 0, 0, 0, 0, 0],\n",
       "        [0, 0, 0, 0, 0, 0],\n",
       "        [0, 0, 0, 0, 0, 0],\n",
       "        [0, 0, 0, 0, 0, 0]], dtype=torch.uint8)"
      ]
     },
     "execution_count": 85,
     "metadata": {},
     "output_type": "execute_result"
    }
   ],
   "source": [
    "tensor(im3)[4:10, 4:10]"
   ]
  },
  {
   "cell_type": "code",
   "execution_count": 86,
   "id": "textile-romantic",
   "metadata": {},
   "outputs": [
    {
     "data": {
      "text/html": [
       "<style  type=\"text/css\" >\n",
       "#T_fecfc_row0_col0,#T_fecfc_row0_col1,#T_fecfc_row0_col2,#T_fecfc_row0_col3,#T_fecfc_row0_col4,#T_fecfc_row0_col5,#T_fecfc_row0_col6,#T_fecfc_row0_col10,#T_fecfc_row0_col11,#T_fecfc_row0_col12,#T_fecfc_row0_col13,#T_fecfc_row0_col14,#T_fecfc_row0_col15,#T_fecfc_row0_col16,#T_fecfc_row0_col17,#T_fecfc_row1_col0,#T_fecfc_row1_col1,#T_fecfc_row1_col2,#T_fecfc_row1_col3,#T_fecfc_row1_col4,#T_fecfc_row1_col5,#T_fecfc_row1_col14,#T_fecfc_row1_col15,#T_fecfc_row1_col16,#T_fecfc_row1_col17,#T_fecfc_row2_col0,#T_fecfc_row2_col1,#T_fecfc_row2_col2,#T_fecfc_row2_col3,#T_fecfc_row2_col4,#T_fecfc_row2_col5,#T_fecfc_row2_col15,#T_fecfc_row2_col16,#T_fecfc_row2_col17,#T_fecfc_row3_col0,#T_fecfc_row3_col1,#T_fecfc_row3_col2,#T_fecfc_row3_col3,#T_fecfc_row3_col4,#T_fecfc_row3_col5,#T_fecfc_row3_col6,#T_fecfc_row3_col15,#T_fecfc_row3_col16,#T_fecfc_row3_col17,#T_fecfc_row4_col0,#T_fecfc_row4_col1,#T_fecfc_row4_col2,#T_fecfc_row4_col3,#T_fecfc_row4_col4,#T_fecfc_row4_col5,#T_fecfc_row4_col6,#T_fecfc_row4_col7,#T_fecfc_row4_col15,#T_fecfc_row4_col16,#T_fecfc_row4_col17,#T_fecfc_row5_col0,#T_fecfc_row5_col1,#T_fecfc_row5_col2,#T_fecfc_row5_col3,#T_fecfc_row5_col4,#T_fecfc_row5_col5,#T_fecfc_row5_col6,#T_fecfc_row5_col7,#T_fecfc_row5_col15,#T_fecfc_row5_col16,#T_fecfc_row5_col17,#T_fecfc_row6_col0,#T_fecfc_row6_col1,#T_fecfc_row6_col2,#T_fecfc_row6_col3,#T_fecfc_row6_col4,#T_fecfc_row6_col5,#T_fecfc_row6_col6,#T_fecfc_row6_col7,#T_fecfc_row6_col8,#T_fecfc_row6_col9,#T_fecfc_row6_col15,#T_fecfc_row6_col16,#T_fecfc_row6_col17,#T_fecfc_row7_col0,#T_fecfc_row7_col1,#T_fecfc_row7_col2,#T_fecfc_row7_col3,#T_fecfc_row7_col4,#T_fecfc_row7_col5,#T_fecfc_row7_col6,#T_fecfc_row7_col7,#T_fecfc_row7_col15,#T_fecfc_row7_col16,#T_fecfc_row7_col17,#T_fecfc_row8_col0,#T_fecfc_row8_col1,#T_fecfc_row8_col2,#T_fecfc_row8_col3,#T_fecfc_row8_col4,#T_fecfc_row8_col5,#T_fecfc_row8_col15,#T_fecfc_row8_col16,#T_fecfc_row8_col17,#T_fecfc_row9_col0,#T_fecfc_row9_col1,#T_fecfc_row9_col2,#T_fecfc_row9_col3,#T_fecfc_row9_col4,#T_fecfc_row9_col5,#T_fecfc_row9_col15,#T_fecfc_row9_col16,#T_fecfc_row9_col17,#T_fecfc_row10_col0,#T_fecfc_row10_col1,#T_fecfc_row10_col2,#T_fecfc_row10_col3,#T_fecfc_row10_col4,#T_fecfc_row10_col5,#T_fecfc_row10_col6,#T_fecfc_row10_col15,#T_fecfc_row10_col16,#T_fecfc_row10_col17{\n",
       "            font-size:  6pt;\n",
       "            background-color:  #ffffff;\n",
       "            color:  #000000;\n",
       "        }#T_fecfc_row0_col7{\n",
       "            font-size:  6pt;\n",
       "            background-color:  #e8e8e8;\n",
       "            color:  #000000;\n",
       "        }#T_fecfc_row0_col8{\n",
       "            font-size:  6pt;\n",
       "            background-color:  #a2a2a2;\n",
       "            color:  #000000;\n",
       "        }#T_fecfc_row0_col9{\n",
       "            font-size:  6pt;\n",
       "            background-color:  #2e2e2e;\n",
       "            color:  #f1f1f1;\n",
       "        }#T_fecfc_row1_col6,#T_fecfc_row1_col8,#T_fecfc_row1_col9,#T_fecfc_row1_col10,#T_fecfc_row1_col11,#T_fecfc_row1_col12,#T_fecfc_row2_col8,#T_fecfc_row2_col9,#T_fecfc_row2_col10,#T_fecfc_row2_col11,#T_fecfc_row2_col12,#T_fecfc_row3_col9,#T_fecfc_row3_col11,#T_fecfc_row3_col12,#T_fecfc_row3_col13,#T_fecfc_row4_col9,#T_fecfc_row4_col11,#T_fecfc_row4_col12,#T_fecfc_row4_col13,#T_fecfc_row5_col10,#T_fecfc_row5_col11,#T_fecfc_row5_col12,#T_fecfc_row5_col13,#T_fecfc_row6_col11,#T_fecfc_row6_col12,#T_fecfc_row6_col13,#T_fecfc_row6_col14,#T_fecfc_row7_col11,#T_fecfc_row7_col12,#T_fecfc_row7_col13,#T_fecfc_row8_col9,#T_fecfc_row8_col10,#T_fecfc_row8_col11,#T_fecfc_row8_col12,#T_fecfc_row8_col13,#T_fecfc_row9_col7,#T_fecfc_row9_col8,#T_fecfc_row9_col9,#T_fecfc_row9_col10,#T_fecfc_row9_col11,#T_fecfc_row9_col12,#T_fecfc_row9_col13,#T_fecfc_row10_col9,#T_fecfc_row10_col10,#T_fecfc_row10_col11,#T_fecfc_row10_col12,#T_fecfc_row10_col13,#T_fecfc_row10_col14{\n",
       "            font-size:  6pt;\n",
       "            background-color:  #000000;\n",
       "            color:  #f1f1f1;\n",
       "        }#T_fecfc_row1_col7{\n",
       "            font-size:  6pt;\n",
       "            background-color:  #060606;\n",
       "            color:  #f1f1f1;\n",
       "        }#T_fecfc_row1_col13,#T_fecfc_row5_col14{\n",
       "            font-size:  6pt;\n",
       "            background-color:  #dbdbdb;\n",
       "            color:  #000000;\n",
       "        }#T_fecfc_row2_col6{\n",
       "            font-size:  6pt;\n",
       "            background-color:  #e7e7e7;\n",
       "            color:  #000000;\n",
       "        }#T_fecfc_row2_col7{\n",
       "            font-size:  6pt;\n",
       "            background-color:  #111111;\n",
       "            color:  #f1f1f1;\n",
       "        }#T_fecfc_row2_col13{\n",
       "            font-size:  6pt;\n",
       "            background-color:  #131313;\n",
       "            color:  #f1f1f1;\n",
       "        }#T_fecfc_row2_col14{\n",
       "            font-size:  6pt;\n",
       "            background-color:  #b3b3b3;\n",
       "            color:  #000000;\n",
       "        }#T_fecfc_row3_col7{\n",
       "            font-size:  6pt;\n",
       "            background-color:  #afafaf;\n",
       "            color:  #000000;\n",
       "        }#T_fecfc_row3_col8{\n",
       "            font-size:  6pt;\n",
       "            background-color:  #0c0c0c;\n",
       "            color:  #f1f1f1;\n",
       "        }#T_fecfc_row3_col10{\n",
       "            font-size:  6pt;\n",
       "            background-color:  #6a6a6a;\n",
       "            color:  #000000;\n",
       "        }#T_fecfc_row3_col14{\n",
       "            font-size:  6pt;\n",
       "            background-color:  #363636;\n",
       "            color:  #f1f1f1;\n",
       "        }#T_fecfc_row4_col8{\n",
       "            font-size:  6pt;\n",
       "            background-color:  #3a3a3a;\n",
       "            color:  #f1f1f1;\n",
       "        }#T_fecfc_row4_col10{\n",
       "            font-size:  6pt;\n",
       "            background-color:  #959595;\n",
       "            color:  #000000;\n",
       "        }#T_fecfc_row4_col14,#T_fecfc_row8_col14{\n",
       "            font-size:  6pt;\n",
       "            background-color:  #e3e3e3;\n",
       "            color:  #000000;\n",
       "        }#T_fecfc_row5_col8{\n",
       "            font-size:  6pt;\n",
       "            background-color:  #c7c7c7;\n",
       "            color:  #000000;\n",
       "        }#T_fecfc_row5_col9{\n",
       "            font-size:  6pt;\n",
       "            background-color:  #434343;\n",
       "            color:  #f1f1f1;\n",
       "        }#T_fecfc_row6_col10,#T_fecfc_row7_col9{\n",
       "            font-size:  6pt;\n",
       "            background-color:  #999999;\n",
       "            color:  #000000;\n",
       "        }#T_fecfc_row7_col8{\n",
       "            font-size:  6pt;\n",
       "            background-color:  #c1c1c1;\n",
       "            color:  #000000;\n",
       "        }#T_fecfc_row7_col10{\n",
       "            font-size:  6pt;\n",
       "            background-color:  #020202;\n",
       "            color:  #f1f1f1;\n",
       "        }#T_fecfc_row7_col14{\n",
       "            font-size:  6pt;\n",
       "            background-color:  #6b6b6b;\n",
       "            color:  #000000;\n",
       "        }#T_fecfc_row8_col6{\n",
       "            font-size:  6pt;\n",
       "            background-color:  #b9b9b9;\n",
       "            color:  #000000;\n",
       "        }#T_fecfc_row8_col7{\n",
       "            font-size:  6pt;\n",
       "            background-color:  #282828;\n",
       "            color:  #f1f1f1;\n",
       "        }#T_fecfc_row8_col8{\n",
       "            font-size:  6pt;\n",
       "            background-color:  #050505;\n",
       "            color:  #f1f1f1;\n",
       "        }#T_fecfc_row9_col6{\n",
       "            font-size:  6pt;\n",
       "            background-color:  #444444;\n",
       "            color:  #f1f1f1;\n",
       "        }#T_fecfc_row9_col14{\n",
       "            font-size:  6pt;\n",
       "            background-color:  #2c2c2c;\n",
       "            color:  #f1f1f1;\n",
       "        }#T_fecfc_row10_col7{\n",
       "            font-size:  6pt;\n",
       "            background-color:  #a7a7a7;\n",
       "            color:  #000000;\n",
       "        }#T_fecfc_row10_col8{\n",
       "            font-size:  6pt;\n",
       "            background-color:  #090909;\n",
       "            color:  #f1f1f1;\n",
       "        }</style><table id=\"T_fecfc_\" ><thead>    <tr>        <th class=\"blank level0\" ></th>        <th class=\"col_heading level0 col0\" >0</th>        <th class=\"col_heading level0 col1\" >1</th>        <th class=\"col_heading level0 col2\" >2</th>        <th class=\"col_heading level0 col3\" >3</th>        <th class=\"col_heading level0 col4\" >4</th>        <th class=\"col_heading level0 col5\" >5</th>        <th class=\"col_heading level0 col6\" >6</th>        <th class=\"col_heading level0 col7\" >7</th>        <th class=\"col_heading level0 col8\" >8</th>        <th class=\"col_heading level0 col9\" >9</th>        <th class=\"col_heading level0 col10\" >10</th>        <th class=\"col_heading level0 col11\" >11</th>        <th class=\"col_heading level0 col12\" >12</th>        <th class=\"col_heading level0 col13\" >13</th>        <th class=\"col_heading level0 col14\" >14</th>        <th class=\"col_heading level0 col15\" >15</th>        <th class=\"col_heading level0 col16\" >16</th>        <th class=\"col_heading level0 col17\" >17</th>    </tr></thead><tbody>\n",
       "                <tr>\n",
       "                        <th id=\"T_fecfc_level0_row0\" class=\"row_heading level0 row0\" >0</th>\n",
       "                        <td id=\"T_fecfc_row0_col0\" class=\"data row0 col0\" >0</td>\n",
       "                        <td id=\"T_fecfc_row0_col1\" class=\"data row0 col1\" >0</td>\n",
       "                        <td id=\"T_fecfc_row0_col2\" class=\"data row0 col2\" >0</td>\n",
       "                        <td id=\"T_fecfc_row0_col3\" class=\"data row0 col3\" >0</td>\n",
       "                        <td id=\"T_fecfc_row0_col4\" class=\"data row0 col4\" >0</td>\n",
       "                        <td id=\"T_fecfc_row0_col5\" class=\"data row0 col5\" >0</td>\n",
       "                        <td id=\"T_fecfc_row0_col6\" class=\"data row0 col6\" >0</td>\n",
       "                        <td id=\"T_fecfc_row0_col7\" class=\"data row0 col7\" >42</td>\n",
       "                        <td id=\"T_fecfc_row0_col8\" class=\"data row0 col8\" >118</td>\n",
       "                        <td id=\"T_fecfc_row0_col9\" class=\"data row0 col9\" >219</td>\n",
       "                        <td id=\"T_fecfc_row0_col10\" class=\"data row0 col10\" >166</td>\n",
       "                        <td id=\"T_fecfc_row0_col11\" class=\"data row0 col11\" >118</td>\n",
       "                        <td id=\"T_fecfc_row0_col12\" class=\"data row0 col12\" >118</td>\n",
       "                        <td id=\"T_fecfc_row0_col13\" class=\"data row0 col13\" >6</td>\n",
       "                        <td id=\"T_fecfc_row0_col14\" class=\"data row0 col14\" >0</td>\n",
       "                        <td id=\"T_fecfc_row0_col15\" class=\"data row0 col15\" >0</td>\n",
       "                        <td id=\"T_fecfc_row0_col16\" class=\"data row0 col16\" >0</td>\n",
       "                        <td id=\"T_fecfc_row0_col17\" class=\"data row0 col17\" >0</td>\n",
       "            </tr>\n",
       "            <tr>\n",
       "                        <th id=\"T_fecfc_level0_row1\" class=\"row_heading level0 row1\" >1</th>\n",
       "                        <td id=\"T_fecfc_row1_col0\" class=\"data row1 col0\" >0</td>\n",
       "                        <td id=\"T_fecfc_row1_col1\" class=\"data row1 col1\" >0</td>\n",
       "                        <td id=\"T_fecfc_row1_col2\" class=\"data row1 col2\" >0</td>\n",
       "                        <td id=\"T_fecfc_row1_col3\" class=\"data row1 col3\" >0</td>\n",
       "                        <td id=\"T_fecfc_row1_col4\" class=\"data row1 col4\" >0</td>\n",
       "                        <td id=\"T_fecfc_row1_col5\" class=\"data row1 col5\" >0</td>\n",
       "                        <td id=\"T_fecfc_row1_col6\" class=\"data row1 col6\" >103</td>\n",
       "                        <td id=\"T_fecfc_row1_col7\" class=\"data row1 col7\" >242</td>\n",
       "                        <td id=\"T_fecfc_row1_col8\" class=\"data row1 col8\" >254</td>\n",
       "                        <td id=\"T_fecfc_row1_col9\" class=\"data row1 col9\" >254</td>\n",
       "                        <td id=\"T_fecfc_row1_col10\" class=\"data row1 col10\" >254</td>\n",
       "                        <td id=\"T_fecfc_row1_col11\" class=\"data row1 col11\" >254</td>\n",
       "                        <td id=\"T_fecfc_row1_col12\" class=\"data row1 col12\" >254</td>\n",
       "                        <td id=\"T_fecfc_row1_col13\" class=\"data row1 col13\" >66</td>\n",
       "                        <td id=\"T_fecfc_row1_col14\" class=\"data row1 col14\" >0</td>\n",
       "                        <td id=\"T_fecfc_row1_col15\" class=\"data row1 col15\" >0</td>\n",
       "                        <td id=\"T_fecfc_row1_col16\" class=\"data row1 col16\" >0</td>\n",
       "                        <td id=\"T_fecfc_row1_col17\" class=\"data row1 col17\" >0</td>\n",
       "            </tr>\n",
       "            <tr>\n",
       "                        <th id=\"T_fecfc_level0_row2\" class=\"row_heading level0 row2\" >2</th>\n",
       "                        <td id=\"T_fecfc_row2_col0\" class=\"data row2 col0\" >0</td>\n",
       "                        <td id=\"T_fecfc_row2_col1\" class=\"data row2 col1\" >0</td>\n",
       "                        <td id=\"T_fecfc_row2_col2\" class=\"data row2 col2\" >0</td>\n",
       "                        <td id=\"T_fecfc_row2_col3\" class=\"data row2 col3\" >0</td>\n",
       "                        <td id=\"T_fecfc_row2_col4\" class=\"data row2 col4\" >0</td>\n",
       "                        <td id=\"T_fecfc_row2_col5\" class=\"data row2 col5\" >0</td>\n",
       "                        <td id=\"T_fecfc_row2_col6\" class=\"data row2 col6\" >18</td>\n",
       "                        <td id=\"T_fecfc_row2_col7\" class=\"data row2 col7\" >232</td>\n",
       "                        <td id=\"T_fecfc_row2_col8\" class=\"data row2 col8\" >254</td>\n",
       "                        <td id=\"T_fecfc_row2_col9\" class=\"data row2 col9\" >254</td>\n",
       "                        <td id=\"T_fecfc_row2_col10\" class=\"data row2 col10\" >254</td>\n",
       "                        <td id=\"T_fecfc_row2_col11\" class=\"data row2 col11\" >254</td>\n",
       "                        <td id=\"T_fecfc_row2_col12\" class=\"data row2 col12\" >254</td>\n",
       "                        <td id=\"T_fecfc_row2_col13\" class=\"data row2 col13\" >238</td>\n",
       "                        <td id=\"T_fecfc_row2_col14\" class=\"data row2 col14\" >70</td>\n",
       "                        <td id=\"T_fecfc_row2_col15\" class=\"data row2 col15\" >0</td>\n",
       "                        <td id=\"T_fecfc_row2_col16\" class=\"data row2 col16\" >0</td>\n",
       "                        <td id=\"T_fecfc_row2_col17\" class=\"data row2 col17\" >0</td>\n",
       "            </tr>\n",
       "            <tr>\n",
       "                        <th id=\"T_fecfc_level0_row3\" class=\"row_heading level0 row3\" >3</th>\n",
       "                        <td id=\"T_fecfc_row3_col0\" class=\"data row3 col0\" >0</td>\n",
       "                        <td id=\"T_fecfc_row3_col1\" class=\"data row3 col1\" >0</td>\n",
       "                        <td id=\"T_fecfc_row3_col2\" class=\"data row3 col2\" >0</td>\n",
       "                        <td id=\"T_fecfc_row3_col3\" class=\"data row3 col3\" >0</td>\n",
       "                        <td id=\"T_fecfc_row3_col4\" class=\"data row3 col4\" >0</td>\n",
       "                        <td id=\"T_fecfc_row3_col5\" class=\"data row3 col5\" >0</td>\n",
       "                        <td id=\"T_fecfc_row3_col6\" class=\"data row3 col6\" >0</td>\n",
       "                        <td id=\"T_fecfc_row3_col7\" class=\"data row3 col7\" >104</td>\n",
       "                        <td id=\"T_fecfc_row3_col8\" class=\"data row3 col8\" >244</td>\n",
       "                        <td id=\"T_fecfc_row3_col9\" class=\"data row3 col9\" >254</td>\n",
       "                        <td id=\"T_fecfc_row3_col10\" class=\"data row3 col10\" >224</td>\n",
       "                        <td id=\"T_fecfc_row3_col11\" class=\"data row3 col11\" >254</td>\n",
       "                        <td id=\"T_fecfc_row3_col12\" class=\"data row3 col12\" >254</td>\n",
       "                        <td id=\"T_fecfc_row3_col13\" class=\"data row3 col13\" >254</td>\n",
       "                        <td id=\"T_fecfc_row3_col14\" class=\"data row3 col14\" >141</td>\n",
       "                        <td id=\"T_fecfc_row3_col15\" class=\"data row3 col15\" >0</td>\n",
       "                        <td id=\"T_fecfc_row3_col16\" class=\"data row3 col16\" >0</td>\n",
       "                        <td id=\"T_fecfc_row3_col17\" class=\"data row3 col17\" >0</td>\n",
       "            </tr>\n",
       "            <tr>\n",
       "                        <th id=\"T_fecfc_level0_row4\" class=\"row_heading level0 row4\" >4</th>\n",
       "                        <td id=\"T_fecfc_row4_col0\" class=\"data row4 col0\" >0</td>\n",
       "                        <td id=\"T_fecfc_row4_col1\" class=\"data row4 col1\" >0</td>\n",
       "                        <td id=\"T_fecfc_row4_col2\" class=\"data row4 col2\" >0</td>\n",
       "                        <td id=\"T_fecfc_row4_col3\" class=\"data row4 col3\" >0</td>\n",
       "                        <td id=\"T_fecfc_row4_col4\" class=\"data row4 col4\" >0</td>\n",
       "                        <td id=\"T_fecfc_row4_col5\" class=\"data row4 col5\" >0</td>\n",
       "                        <td id=\"T_fecfc_row4_col6\" class=\"data row4 col6\" >0</td>\n",
       "                        <td id=\"T_fecfc_row4_col7\" class=\"data row4 col7\" >0</td>\n",
       "                        <td id=\"T_fecfc_row4_col8\" class=\"data row4 col8\" >207</td>\n",
       "                        <td id=\"T_fecfc_row4_col9\" class=\"data row4 col9\" >254</td>\n",
       "                        <td id=\"T_fecfc_row4_col10\" class=\"data row4 col10\" >210</td>\n",
       "                        <td id=\"T_fecfc_row4_col11\" class=\"data row4 col11\" >254</td>\n",
       "                        <td id=\"T_fecfc_row4_col12\" class=\"data row4 col12\" >254</td>\n",
       "                        <td id=\"T_fecfc_row4_col13\" class=\"data row4 col13\" >254</td>\n",
       "                        <td id=\"T_fecfc_row4_col14\" class=\"data row4 col14\" >34</td>\n",
       "                        <td id=\"T_fecfc_row4_col15\" class=\"data row4 col15\" >0</td>\n",
       "                        <td id=\"T_fecfc_row4_col16\" class=\"data row4 col16\" >0</td>\n",
       "                        <td id=\"T_fecfc_row4_col17\" class=\"data row4 col17\" >0</td>\n",
       "            </tr>\n",
       "            <tr>\n",
       "                        <th id=\"T_fecfc_level0_row5\" class=\"row_heading level0 row5\" >5</th>\n",
       "                        <td id=\"T_fecfc_row5_col0\" class=\"data row5 col0\" >0</td>\n",
       "                        <td id=\"T_fecfc_row5_col1\" class=\"data row5 col1\" >0</td>\n",
       "                        <td id=\"T_fecfc_row5_col2\" class=\"data row5 col2\" >0</td>\n",
       "                        <td id=\"T_fecfc_row5_col3\" class=\"data row5 col3\" >0</td>\n",
       "                        <td id=\"T_fecfc_row5_col4\" class=\"data row5 col4\" >0</td>\n",
       "                        <td id=\"T_fecfc_row5_col5\" class=\"data row5 col5\" >0</td>\n",
       "                        <td id=\"T_fecfc_row5_col6\" class=\"data row5 col6\" >0</td>\n",
       "                        <td id=\"T_fecfc_row5_col7\" class=\"data row5 col7\" >0</td>\n",
       "                        <td id=\"T_fecfc_row5_col8\" class=\"data row5 col8\" >84</td>\n",
       "                        <td id=\"T_fecfc_row5_col9\" class=\"data row5 col9\" >206</td>\n",
       "                        <td id=\"T_fecfc_row5_col10\" class=\"data row5 col10\" >254</td>\n",
       "                        <td id=\"T_fecfc_row5_col11\" class=\"data row5 col11\" >254</td>\n",
       "                        <td id=\"T_fecfc_row5_col12\" class=\"data row5 col12\" >254</td>\n",
       "                        <td id=\"T_fecfc_row5_col13\" class=\"data row5 col13\" >254</td>\n",
       "                        <td id=\"T_fecfc_row5_col14\" class=\"data row5 col14\" >41</td>\n",
       "                        <td id=\"T_fecfc_row5_col15\" class=\"data row5 col15\" >0</td>\n",
       "                        <td id=\"T_fecfc_row5_col16\" class=\"data row5 col16\" >0</td>\n",
       "                        <td id=\"T_fecfc_row5_col17\" class=\"data row5 col17\" >0</td>\n",
       "            </tr>\n",
       "            <tr>\n",
       "                        <th id=\"T_fecfc_level0_row6\" class=\"row_heading level0 row6\" >6</th>\n",
       "                        <td id=\"T_fecfc_row6_col0\" class=\"data row6 col0\" >0</td>\n",
       "                        <td id=\"T_fecfc_row6_col1\" class=\"data row6 col1\" >0</td>\n",
       "                        <td id=\"T_fecfc_row6_col2\" class=\"data row6 col2\" >0</td>\n",
       "                        <td id=\"T_fecfc_row6_col3\" class=\"data row6 col3\" >0</td>\n",
       "                        <td id=\"T_fecfc_row6_col4\" class=\"data row6 col4\" >0</td>\n",
       "                        <td id=\"T_fecfc_row6_col5\" class=\"data row6 col5\" >0</td>\n",
       "                        <td id=\"T_fecfc_row6_col6\" class=\"data row6 col6\" >0</td>\n",
       "                        <td id=\"T_fecfc_row6_col7\" class=\"data row6 col7\" >0</td>\n",
       "                        <td id=\"T_fecfc_row6_col8\" class=\"data row6 col8\" >0</td>\n",
       "                        <td id=\"T_fecfc_row6_col9\" class=\"data row6 col9\" >24</td>\n",
       "                        <td id=\"T_fecfc_row6_col10\" class=\"data row6 col10\" >209</td>\n",
       "                        <td id=\"T_fecfc_row6_col11\" class=\"data row6 col11\" >254</td>\n",
       "                        <td id=\"T_fecfc_row6_col12\" class=\"data row6 col12\" >254</td>\n",
       "                        <td id=\"T_fecfc_row6_col13\" class=\"data row6 col13\" >254</td>\n",
       "                        <td id=\"T_fecfc_row6_col14\" class=\"data row6 col14\" >171</td>\n",
       "                        <td id=\"T_fecfc_row6_col15\" class=\"data row6 col15\" >0</td>\n",
       "                        <td id=\"T_fecfc_row6_col16\" class=\"data row6 col16\" >0</td>\n",
       "                        <td id=\"T_fecfc_row6_col17\" class=\"data row6 col17\" >0</td>\n",
       "            </tr>\n",
       "            <tr>\n",
       "                        <th id=\"T_fecfc_level0_row7\" class=\"row_heading level0 row7\" >7</th>\n",
       "                        <td id=\"T_fecfc_row7_col0\" class=\"data row7 col0\" >0</td>\n",
       "                        <td id=\"T_fecfc_row7_col1\" class=\"data row7 col1\" >0</td>\n",
       "                        <td id=\"T_fecfc_row7_col2\" class=\"data row7 col2\" >0</td>\n",
       "                        <td id=\"T_fecfc_row7_col3\" class=\"data row7 col3\" >0</td>\n",
       "                        <td id=\"T_fecfc_row7_col4\" class=\"data row7 col4\" >0</td>\n",
       "                        <td id=\"T_fecfc_row7_col5\" class=\"data row7 col5\" >0</td>\n",
       "                        <td id=\"T_fecfc_row7_col6\" class=\"data row7 col6\" >0</td>\n",
       "                        <td id=\"T_fecfc_row7_col7\" class=\"data row7 col7\" >0</td>\n",
       "                        <td id=\"T_fecfc_row7_col8\" class=\"data row7 col8\" >91</td>\n",
       "                        <td id=\"T_fecfc_row7_col9\" class=\"data row7 col9\" >137</td>\n",
       "                        <td id=\"T_fecfc_row7_col10\" class=\"data row7 col10\" >253</td>\n",
       "                        <td id=\"T_fecfc_row7_col11\" class=\"data row7 col11\" >254</td>\n",
       "                        <td id=\"T_fecfc_row7_col12\" class=\"data row7 col12\" >254</td>\n",
       "                        <td id=\"T_fecfc_row7_col13\" class=\"data row7 col13\" >254</td>\n",
       "                        <td id=\"T_fecfc_row7_col14\" class=\"data row7 col14\" >112</td>\n",
       "                        <td id=\"T_fecfc_row7_col15\" class=\"data row7 col15\" >0</td>\n",
       "                        <td id=\"T_fecfc_row7_col16\" class=\"data row7 col16\" >0</td>\n",
       "                        <td id=\"T_fecfc_row7_col17\" class=\"data row7 col17\" >0</td>\n",
       "            </tr>\n",
       "            <tr>\n",
       "                        <th id=\"T_fecfc_level0_row8\" class=\"row_heading level0 row8\" >8</th>\n",
       "                        <td id=\"T_fecfc_row8_col0\" class=\"data row8 col0\" >0</td>\n",
       "                        <td id=\"T_fecfc_row8_col1\" class=\"data row8 col1\" >0</td>\n",
       "                        <td id=\"T_fecfc_row8_col2\" class=\"data row8 col2\" >0</td>\n",
       "                        <td id=\"T_fecfc_row8_col3\" class=\"data row8 col3\" >0</td>\n",
       "                        <td id=\"T_fecfc_row8_col4\" class=\"data row8 col4\" >0</td>\n",
       "                        <td id=\"T_fecfc_row8_col5\" class=\"data row8 col5\" >0</td>\n",
       "                        <td id=\"T_fecfc_row8_col6\" class=\"data row8 col6\" >40</td>\n",
       "                        <td id=\"T_fecfc_row8_col7\" class=\"data row8 col7\" >214</td>\n",
       "                        <td id=\"T_fecfc_row8_col8\" class=\"data row8 col8\" >250</td>\n",
       "                        <td id=\"T_fecfc_row8_col9\" class=\"data row8 col9\" >254</td>\n",
       "                        <td id=\"T_fecfc_row8_col10\" class=\"data row8 col10\" >254</td>\n",
       "                        <td id=\"T_fecfc_row8_col11\" class=\"data row8 col11\" >254</td>\n",
       "                        <td id=\"T_fecfc_row8_col12\" class=\"data row8 col12\" >254</td>\n",
       "                        <td id=\"T_fecfc_row8_col13\" class=\"data row8 col13\" >254</td>\n",
       "                        <td id=\"T_fecfc_row8_col14\" class=\"data row8 col14\" >34</td>\n",
       "                        <td id=\"T_fecfc_row8_col15\" class=\"data row8 col15\" >0</td>\n",
       "                        <td id=\"T_fecfc_row8_col16\" class=\"data row8 col16\" >0</td>\n",
       "                        <td id=\"T_fecfc_row8_col17\" class=\"data row8 col17\" >0</td>\n",
       "            </tr>\n",
       "            <tr>\n",
       "                        <th id=\"T_fecfc_level0_row9\" class=\"row_heading level0 row9\" >9</th>\n",
       "                        <td id=\"T_fecfc_row9_col0\" class=\"data row9 col0\" >0</td>\n",
       "                        <td id=\"T_fecfc_row9_col1\" class=\"data row9 col1\" >0</td>\n",
       "                        <td id=\"T_fecfc_row9_col2\" class=\"data row9 col2\" >0</td>\n",
       "                        <td id=\"T_fecfc_row9_col3\" class=\"data row9 col3\" >0</td>\n",
       "                        <td id=\"T_fecfc_row9_col4\" class=\"data row9 col4\" >0</td>\n",
       "                        <td id=\"T_fecfc_row9_col5\" class=\"data row9 col5\" >0</td>\n",
       "                        <td id=\"T_fecfc_row9_col6\" class=\"data row9 col6\" >81</td>\n",
       "                        <td id=\"T_fecfc_row9_col7\" class=\"data row9 col7\" >247</td>\n",
       "                        <td id=\"T_fecfc_row9_col8\" class=\"data row9 col8\" >254</td>\n",
       "                        <td id=\"T_fecfc_row9_col9\" class=\"data row9 col9\" >254</td>\n",
       "                        <td id=\"T_fecfc_row9_col10\" class=\"data row9 col10\" >254</td>\n",
       "                        <td id=\"T_fecfc_row9_col11\" class=\"data row9 col11\" >254</td>\n",
       "                        <td id=\"T_fecfc_row9_col12\" class=\"data row9 col12\" >254</td>\n",
       "                        <td id=\"T_fecfc_row9_col13\" class=\"data row9 col13\" >254</td>\n",
       "                        <td id=\"T_fecfc_row9_col14\" class=\"data row9 col14\" >146</td>\n",
       "                        <td id=\"T_fecfc_row9_col15\" class=\"data row9 col15\" >0</td>\n",
       "                        <td id=\"T_fecfc_row9_col16\" class=\"data row9 col16\" >0</td>\n",
       "                        <td id=\"T_fecfc_row9_col17\" class=\"data row9 col17\" >0</td>\n",
       "            </tr>\n",
       "            <tr>\n",
       "                        <th id=\"T_fecfc_level0_row10\" class=\"row_heading level0 row10\" >10</th>\n",
       "                        <td id=\"T_fecfc_row10_col0\" class=\"data row10 col0\" >0</td>\n",
       "                        <td id=\"T_fecfc_row10_col1\" class=\"data row10 col1\" >0</td>\n",
       "                        <td id=\"T_fecfc_row10_col2\" class=\"data row10 col2\" >0</td>\n",
       "                        <td id=\"T_fecfc_row10_col3\" class=\"data row10 col3\" >0</td>\n",
       "                        <td id=\"T_fecfc_row10_col4\" class=\"data row10 col4\" >0</td>\n",
       "                        <td id=\"T_fecfc_row10_col5\" class=\"data row10 col5\" >0</td>\n",
       "                        <td id=\"T_fecfc_row10_col6\" class=\"data row10 col6\" >0</td>\n",
       "                        <td id=\"T_fecfc_row10_col7\" class=\"data row10 col7\" >110</td>\n",
       "                        <td id=\"T_fecfc_row10_col8\" class=\"data row10 col8\" >246</td>\n",
       "                        <td id=\"T_fecfc_row10_col9\" class=\"data row10 col9\" >254</td>\n",
       "                        <td id=\"T_fecfc_row10_col10\" class=\"data row10 col10\" >254</td>\n",
       "                        <td id=\"T_fecfc_row10_col11\" class=\"data row10 col11\" >254</td>\n",
       "                        <td id=\"T_fecfc_row10_col12\" class=\"data row10 col12\" >254</td>\n",
       "                        <td id=\"T_fecfc_row10_col13\" class=\"data row10 col13\" >254</td>\n",
       "                        <td id=\"T_fecfc_row10_col14\" class=\"data row10 col14\" >171</td>\n",
       "                        <td id=\"T_fecfc_row10_col15\" class=\"data row10 col15\" >0</td>\n",
       "                        <td id=\"T_fecfc_row10_col16\" class=\"data row10 col16\" >0</td>\n",
       "                        <td id=\"T_fecfc_row10_col17\" class=\"data row10 col17\" >0</td>\n",
       "            </tr>\n",
       "    </tbody></table>"
      ],
      "text/plain": [
       "<pandas.io.formats.style.Styler at 0x20205984820>"
      ]
     },
     "execution_count": 86,
     "metadata": {},
     "output_type": "execute_result"
    }
   ],
   "source": [
    "im3_t = tensor(im3)\n",
    "df = pd.DataFrame(im3_t[4:15, 4:22])\n",
    "df.style.set_properties(**{'font-size':'6pt'}).background_gradient('Greys')"
   ]
  },
  {
   "cell_type": "markdown",
   "id": "referenced-memorabilia",
   "metadata": {},
   "source": [
    "## Pixel Similarity"
   ]
  },
  {
   "cell_type": "code",
   "execution_count": 87,
   "id": "absolute-snake",
   "metadata": {},
   "outputs": [
    {
     "data": {
      "text/plain": [
       "(6131, 6265)"
      ]
     },
     "execution_count": 87,
     "metadata": {},
     "output_type": "execute_result"
    }
   ],
   "source": [
    "three_tensors = [tensor(Image.open(f)) for f in threes]\n",
    "seven_tensors = [tensor(Image.open(f)) for f in sevens]\n",
    "len(three_tensors), len(seven_tensors)"
   ]
  },
  {
   "cell_type": "code",
   "execution_count": 88,
   "id": "eligible-while",
   "metadata": {},
   "outputs": [
    {
     "data": {
      "text/plain": [
       "<AxesSubplot:>"
      ]
     },
     "execution_count": 88,
     "metadata": {},
     "output_type": "execute_result"
    },
    {
     "data": {
      "image/png": "[encoded data removed]",
      "text/plain": [
       "<Figure size 72x72 with 1 Axes>"
      ]
     },
     "metadata": {
      "needs_background": "light"
     },
     "output_type": "display_data"
    }
   ],
   "source": [
    "show_image(three_tensors[0])"
   ]
  },
  {
   "cell_type": "code",
   "execution_count": 89,
   "id": "expanded-radio",
   "metadata": {},
   "outputs": [],
   "source": [
    "stacked_threes = torch.stack(three_tensors).float()/255.\n",
    "stacked_sevens = torch.stack(seven_tensors).float()/255."
   ]
  },
  {
   "cell_type": "code",
   "execution_count": 90,
   "id": "immune-prayer",
   "metadata": {},
   "outputs": [
    {
     "data": {
      "text/plain": [
       "(torch.Size([6131, 28, 28]), torch.Size([6265, 28, 28]))"
      ]
     },
     "execution_count": 90,
     "metadata": {},
     "output_type": "execute_result"
    }
   ],
   "source": [
    "stacked_threes.shape, stacked_sevens.shape"
   ]
  },
  {
   "cell_type": "code",
   "execution_count": 91,
   "id": "broken-estonia",
   "metadata": {},
   "outputs": [
    {
     "data": {
      "text/plain": [
       "(3, True)"
      ]
     },
     "execution_count": 91,
     "metadata": {},
     "output_type": "execute_result"
    }
   ],
   "source": [
    "stacked_threes.ndim, stacked_threes.ndim == len(stacked_threes.shape)"
   ]
  },
  {
   "cell_type": "code",
   "execution_count": 92,
   "id": "located-slovenia",
   "metadata": {},
   "outputs": [
    {
     "data": {
      "text/plain": [
       "<AxesSubplot:>"
      ]
     },
     "execution_count": 92,
     "metadata": {},
     "output_type": "execute_result"
    },
    {
     "data": {
      "image/png": "[encoded data removed]",
      "text/plain": [
       "<Figure size 72x72 with 1 Axes>"
      ]
     },
     "metadata": {
      "needs_background": "light"
     },
     "output_type": "display_data"
    }
   ],
   "source": [
    "mean_3 = stacked_threes.mean(0)\n",
    "show_image(mean_3)"
   ]
  },
  {
   "cell_type": "code",
   "execution_count": 93,
   "id": "accompanied-description",
   "metadata": {},
   "outputs": [
    {
     "data": {
      "text/plain": [
       "<AxesSubplot:>"
      ]
     },
     "execution_count": 93,
     "metadata": {},
     "output_type": "execute_result"
    },
    {
     "data": {
      "image/png": "[encoded data removed]",
      "text/plain": [
       "<Figure size 72x72 with 1 Axes>"
      ]
     },
     "metadata": {
      "needs_background": "light"
     },
     "output_type": "display_data"
    }
   ],
   "source": [
    "mean_7 = stacked_sevens.mean(0)\n",
    "show_image(mean_7)"
   ]
  },
  {
   "cell_type": "code",
   "execution_count": 94,
   "id": "ongoing-desktop",
   "metadata": {},
   "outputs": [
    {
     "data": {
      "text/plain": [
       "<AxesSubplot:>"
      ]
     },
     "execution_count": 94,
     "metadata": {},
     "output_type": "execute_result"
    },
    {
     "data": {
      "image/png": "[encoded data removed]",
      "text/plain": [
       "<Figure size 72x72 with 1 Axes>"
      ]
     },
     "metadata": {
      "needs_background": "light"
     },
     "output_type": "display_data"
    }
   ],
   "source": [
    "a_3 = stacked_threes[1]\n",
    "show_image(a_3)"
   ]
  },
  {
   "cell_type": "code",
   "execution_count": 95,
   "id": "typical-photograph",
   "metadata": {},
   "outputs": [
    {
     "data": {
      "text/plain": [
       "(tensor(0.1114), tensor(0.2021))"
      ]
     },
     "execution_count": 95,
     "metadata": {},
     "output_type": "execute_result"
    }
   ],
   "source": [
    "# MAE (Mean Absolute Error)\n",
    "dist_3_abs = (a_3 - mean_3).abs().mean()\n",
    "# RMSE (Root Mean Squared Error)\n",
    "dist_3_sqr = ((a_3 - mean_3) ** 2).mean().sqrt()\n",
    "dist_3_abs, dist_3_sqr"
   ]
  },
  {
   "cell_type": "code",
   "execution_count": 96,
   "id": "strong-inspector",
   "metadata": {},
   "outputs": [
    {
     "data": {
      "text/plain": [
       "(tensor(0.1586), tensor(0.3021))"
      ]
     },
     "execution_count": 96,
     "metadata": {},
     "output_type": "execute_result"
    }
   ],
   "source": [
    "# MAE (Mean Absolute Error)\n",
    "dist_7_abs = (a_3 - mean_7).abs().mean()\n",
    "# RMSE (Root Mean Squared Error)\n",
    "dist_7_sqr = ((a_3 - mean_7) ** 2).mean().sqrt()\n",
    "dist_7_abs, dist_7_sqr"
   ]
  },
  {
   "cell_type": "code",
   "execution_count": 97,
   "id": "revolutionary-account",
   "metadata": {},
   "outputs": [
    {
     "data": {
      "text/plain": [
       "(tensor(0.1114), tensor(0.1586))"
      ]
     },
     "execution_count": 97,
     "metadata": {},
     "output_type": "execute_result"
    }
   ],
   "source": [
    "# or use F.l1_loss\n",
    "F.l1_loss(a_3, mean_3), F.l1_loss(a_3, mean_7)"
   ]
  },
  {
   "cell_type": "code",
   "execution_count": 98,
   "id": "greatest-annual",
   "metadata": {},
   "outputs": [
    {
     "data": {
      "text/plain": [
       "(torch.Size([1010, 28, 28]), torch.Size([1028, 28, 28]))"
      ]
     },
     "execution_count": 98,
     "metadata": {},
     "output_type": "execute_result"
    }
   ],
   "source": [
    "# validation set\n",
    "valid_3_t = torch.stack([tensor(Image.open(f)) for f in (path/'valid'/'3').ls()])\n",
    "valid_3_t = valid_3_t / 255.\n",
    "valid_7_t = torch.stack([tensor(Image.open(f)) for f in (path/'valid'/'7').ls()])\n",
    "valid_7_t = valid_7_t / 255.\n",
    "valid_3_t.shape, valid_7_t.shape"
   ]
  },
  {
   "cell_type": "code",
   "execution_count": 99,
   "id": "stainless-acting",
   "metadata": {},
   "outputs": [],
   "source": [
    "def mnist_distance(a, b):\n",
    "#     return F.l1_loss(a, b)\n",
    "    return (a-b).abs().mean((-1,-2))"
   ]
  },
  {
   "cell_type": "code",
   "execution_count": 100,
   "id": "exact-chest",
   "metadata": {},
   "outputs": [
    {
     "data": {
      "text/plain": [
       "tensor(0.1114)"
      ]
     },
     "execution_count": 100,
     "metadata": {},
     "output_type": "execute_result"
    }
   ],
   "source": [
    "mnist_distance(a_3, mean_3)"
   ]
  },
  {
   "cell_type": "code",
   "execution_count": 101,
   "id": "lined-brief",
   "metadata": {},
   "outputs": [
    {
     "data": {
      "text/plain": [
       "(tensor([0.1280, 0.1623, 0.1242,  ..., 0.1508, 0.1263, 0.1260]),\n",
       " torch.Size([1010]))"
      ]
     },
     "execution_count": 101,
     "metadata": {},
     "output_type": "execute_result"
    }
   ],
   "source": [
    "valid_3_dist = mnist_distance(valid_3_t, mean_3)\n",
    "valid_3_dist, valid_3_dist.shape"
   ]
  },
  {
   "cell_type": "code",
   "execution_count": 102,
   "id": "ethical-breed",
   "metadata": {},
   "outputs": [],
   "source": [
    "def is_3(x):\n",
    "    return mnist_distance(x, mean_3) < mnist_distance(x, mean_7)"
   ]
  },
  {
   "cell_type": "code",
   "execution_count": 103,
   "id": "strategic-medication",
   "metadata": {},
   "outputs": [
    {
     "data": {
      "text/plain": [
       "(tensor(True), tensor(1.))"
      ]
     },
     "execution_count": 103,
     "metadata": {},
     "output_type": "execute_result"
    }
   ],
   "source": [
    "is_3(a_3), is_3(a_3).float()"
   ]
  },
  {
   "cell_type": "code",
   "execution_count": 104,
   "id": "crucial-enemy",
   "metadata": {},
   "outputs": [
    {
     "data": {
      "text/plain": [
       "tensor([ True,  True,  True,  ..., False,  True,  True])"
      ]
     },
     "execution_count": 104,
     "metadata": {},
     "output_type": "execute_result"
    }
   ],
   "source": [
    "is_3(valid_3_t)"
   ]
  },
  {
   "cell_type": "code",
   "execution_count": 105,
   "id": "false-greek",
   "metadata": {},
   "outputs": [
    {
     "data": {
      "text/plain": [
       "(tensor(0.9168), tensor(0.9854), tensor(0.9511))"
      ]
     },
     "execution_count": 105,
     "metadata": {},
     "output_type": "execute_result"
    }
   ],
   "source": [
    "accuracy_3 = is_3(valid_3_t).float().mean()\n",
    "accuracy_7 = 1 - is_3(valid_7_t).float().mean()\n",
    "accuracy_3, accuracy_7, (accuracy_3+accuracy_7)/2"
   ]
  },
  {
   "cell_type": "markdown",
   "id": "combined-technician",
   "metadata": {},
   "source": [
    "## Gradient Descent"
   ]
  },
  {
   "cell_type": "code",
   "execution_count": 106,
   "id": "veterinary-whale",
   "metadata": {},
   "outputs": [
    {
     "data": {
      "text/plain": [
       "(torch.Size([12396, 784]), torch.Size([12396, 1]))"
      ]
     },
     "execution_count": 106,
     "metadata": {},
     "output_type": "execute_result"
    }
   ],
   "source": [
    "# prepare training data\n",
    "x_train = torch.cat([stacked_threes, stacked_sevens]).view(-1, 28*28)\n",
    "y_train = torch.Tensor([1]*len(threes) + [0]*len(sevens)).unsqueeze(1)\n",
    "x_train.shape, y_train.shape"
   ]
  },
  {
   "cell_type": "code",
   "execution_count": 107,
   "id": "optical-ordinance",
   "metadata": {},
   "outputs": [
    {
     "data": {
      "text/plain": [
       "(torch.Size([784]), torch.Size([1]))"
      ]
     },
     "execution_count": 107,
     "metadata": {},
     "output_type": "execute_result"
    }
   ],
   "source": [
    "# convert to a dataset (tuple)\n",
    "dset = list(zip(x_train, y_train))\n",
    "x, y = dset[0]\n",
    "x.shape, y.shape"
   ]
  },
  {
   "cell_type": "code",
   "execution_count": 108,
   "id": "flexible-police",
   "metadata": {},
   "outputs": [],
   "source": [
    "# do the same for validation set\n",
    "x_valid = torch.cat([valid_3_t, valid_7_t]).view(-1, 28*28)\n",
    "y_valid = torch.Tensor([1]*len(valid_3_t) + [0]*len(valid_7_t)).unsqueeze(1)\n",
    "dset_valid = list(zip(x_valid, y_valid))"
   ]
  },
  {
   "cell_type": "code",
   "execution_count": 109,
   "id": "chronic-kruger",
   "metadata": {},
   "outputs": [],
   "source": [
    "# init params\n",
    "def init_params(size, std=1.0):\n",
    "    return (torch.randn(size)*std).requires_grad_()"
   ]
  },
  {
   "cell_type": "code",
   "execution_count": 110,
   "id": "tested-index",
   "metadata": {},
   "outputs": [],
   "source": [
    "weights = init_params(28*28,1)\n",
    "bias = init_params(1)"
   ]
  },
  {
   "cell_type": "code",
   "execution_count": 111,
   "id": "sharing-accountability",
   "metadata": {},
   "outputs": [],
   "source": [
    "# linear function\n",
    "def linear(x):\n",
    "    return x@weights + bias"
   ]
  },
  {
   "cell_type": "code",
   "execution_count": 112,
   "id": "sought-fabric",
   "metadata": {},
   "outputs": [
    {
     "data": {
      "text/plain": [
       "tensor([-18.5948, -13.0183, -21.5130,  ...,   3.3052,  -3.0296,  -1.3512],\n",
       "       grad_fn=<AddBackward0>)"
      ]
     },
     "execution_count": 112,
     "metadata": {},
     "output_type": "execute_result"
    }
   ],
   "source": [
    "preds = linear(x_train)\n",
    "preds"
   ]
  },
  {
   "cell_type": "code",
   "execution_count": 113,
   "id": "hourly-mason",
   "metadata": {},
   "outputs": [],
   "source": [
    "# sigmoid function\n",
    "def sigmoid(x):\n",
    "    return 1 / (1+torch.exp(-x))"
   ]
  },
  {
   "cell_type": "code",
   "execution_count": 114,
   "id": "selective-combining",
   "metadata": {},
   "outputs": [],
   "source": [
    "# loss function\n",
    "def mnist_loss(preds, targets):\n",
    "    predictions = preds.sigmoid()\n",
    "    \n",
    "    return torch.where(targets==1, 1-predictions, predictions).mean()"
   ]
  },
  {
   "cell_type": "code",
   "execution_count": 115,
   "id": "complete-maldives",
   "metadata": {},
   "outputs": [],
   "source": [
    "def calc_grad(xb, yb, model):\n",
    "    preds = model(xb)\n",
    "    loss = mnist_loss(preds, yb)\n",
    "    loss.backward()"
   ]
  },
  {
   "cell_type": "code",
   "execution_count": 116,
   "id": "parallel-thesaurus",
   "metadata": {},
   "outputs": [],
   "source": [
    "weights = init_params(28*28,1)\n",
    "bias = init_params(1)"
   ]
  },
  {
   "cell_type": "code",
   "execution_count": 117,
   "id": "interested-cocktail",
   "metadata": {},
   "outputs": [
    {
     "data": {
      "text/plain": [
       "(torch.Size([256, 784]), torch.Size([256, 1]))"
      ]
     },
     "execution_count": 117,
     "metadata": {},
     "output_type": "execute_result"
    }
   ],
   "source": [
    "dl = DataLoader(dset, bs=256)\n",
    "dl_valid = DataLoader(dset_valid, bs=256)\n",
    "xb, yb = first(dl)\n",
    "xb.shape, yb.shape"
   ]
  },
  {
   "cell_type": "code",
   "execution_count": 118,
   "id": "familiar-serial",
   "metadata": {},
   "outputs": [
    {
     "data": {
      "text/plain": [
       "torch.Size([4, 784])"
      ]
     },
     "execution_count": 118,
     "metadata": {},
     "output_type": "execute_result"
    }
   ],
   "source": [
    "batch = x_train[:4]\n",
    "batch.shape"
   ]
  },
  {
   "cell_type": "code",
   "execution_count": 119,
   "id": "catholic-insulin",
   "metadata": {},
   "outputs": [
    {
     "data": {
      "text/plain": [
       "tensor([ -0.9048, -12.0145,  -3.3055,  -1.2798], grad_fn=<AddBackward0>)"
      ]
     },
     "execution_count": 119,
     "metadata": {},
     "output_type": "execute_result"
    }
   ],
   "source": [
    "preds = linear(batch)\n",
    "preds"
   ]
  },
  {
   "cell_type": "code",
   "execution_count": 120,
   "id": "straight-visiting",
   "metadata": {},
   "outputs": [
    {
     "data": {
      "text/plain": [
       "tensor(0.8647, grad_fn=<MeanBackward0>)"
      ]
     },
     "execution_count": 120,
     "metadata": {},
     "output_type": "execute_result"
    }
   ],
   "source": [
    "loss = mnist_loss(preds, y_train[:4])\n",
    "loss"
   ]
  },
  {
   "cell_type": "code",
   "execution_count": 121,
   "id": "alpha-allocation",
   "metadata": {},
   "outputs": [
    {
     "data": {
      "text/plain": [
       "(tensor(-0.0160), tensor([-0.1024]))"
      ]
     },
     "execution_count": 121,
     "metadata": {},
     "output_type": "execute_result"
    }
   ],
   "source": [
    "calc_grad(batch, y_train[:4], linear)\n",
    "weights.grad.mean(), bias.grad"
   ]
  },
  {
   "cell_type": "code",
   "execution_count": 122,
   "id": "interior-liability",
   "metadata": {},
   "outputs": [
    {
     "data": {
      "text/plain": [
       "tensor([0.])"
      ]
     },
     "execution_count": 122,
     "metadata": {},
     "output_type": "execute_result"
    }
   ],
   "source": [
    "# don't forget to zero out grads\n",
    "weights.grad.zero_()\n",
    "bias.grad.zero_()"
   ]
  },
  {
   "cell_type": "code",
   "execution_count": 123,
   "id": "statistical-seeking",
   "metadata": {},
   "outputs": [
    {
     "data": {
      "text/plain": [
       "(tensor(-0.0160), tensor([-0.1024]))"
      ]
     },
     "execution_count": 123,
     "metadata": {},
     "output_type": "execute_result"
    }
   ],
   "source": [
    "# now we get the same gradients\n",
    "calc_grad(batch, y_train[:4], linear)\n",
    "weights.grad.mean(), bias.grad"
   ]
  },
  {
   "cell_type": "code",
   "execution_count": 124,
   "id": "touched-duncan",
   "metadata": {},
   "outputs": [],
   "source": [
    "# our training loop\n",
    "def train_epoch(model, lr, params):\n",
    "    for xb, yb in dl:\n",
    "        calc_grad(xb, yb, model)\n",
    "        for p in params:\n",
    "            p.data -= p.grad*lr\n",
    "            p.grad.zero_()"
   ]
  },
  {
   "cell_type": "code",
   "execution_count": 125,
   "id": "active-bristol",
   "metadata": {},
   "outputs": [],
   "source": [
    "# accuracy\n",
    "def batch_accuracy(xb, yb):\n",
    "    preds = xb.sigmoid()\n",
    "    correct = (preds > 0.5) == yb\n",
    "    \n",
    "    return correct.float().mean()"
   ]
  },
  {
   "cell_type": "code",
   "execution_count": 126,
   "id": "exempt-break",
   "metadata": {},
   "outputs": [
    {
     "data": {
      "text/plain": [
       "tensor(0.)"
      ]
     },
     "execution_count": 126,
     "metadata": {},
     "output_type": "execute_result"
    }
   ],
   "source": [
    "batch_accuracy(linear(batch), y_train[:4])"
   ]
  },
  {
   "cell_type": "code",
   "execution_count": 127,
   "id": "front-professional",
   "metadata": {},
   "outputs": [],
   "source": [
    "def validate_epoch(model):\n",
    "    accs = [batch_accuracy(model(xb), yb) for xb,yb in dset_valid]\n",
    "    return round(torch.stack(accs).mean().item(), 4)"
   ]
  },
  {
   "cell_type": "code",
   "execution_count": 128,
   "id": "dietary-inflation",
   "metadata": {},
   "outputs": [
    {
     "data": {
      "text/plain": [
       "0.553"
      ]
     },
     "execution_count": 128,
     "metadata": {},
     "output_type": "execute_result"
    }
   ],
   "source": [
    "validate_epoch(linear)"
   ]
  },
  {
   "cell_type": "code",
   "execution_count": 129,
   "id": "martial-government",
   "metadata": {},
   "outputs": [
    {
     "data": {
      "text/plain": [
       "0.6752"
      ]
     },
     "execution_count": 129,
     "metadata": {},
     "output_type": "execute_result"
    }
   ],
   "source": [
    "# single epoch\n",
    "lr = 1.\n",
    "params = weights,bias\n",
    "train_epoch(linear, lr, params)\n",
    "validate_epoch(linear)"
   ]
  },
  {
   "cell_type": "code",
   "execution_count": 130,
   "id": "certified-foundation",
   "metadata": {},
   "outputs": [
    {
     "name": "stdout",
     "output_type": "stream",
     "text": [
      "0.841 0.9053 0.9298 0.9411 0.9514 0.9553 0.9603 0.9617 0.9627 0.9647 0.9661 0.9686 0.9686 0.9696 0.9696 0.9701 0.9711 0.972 0.972 0.972 "
     ]
    }
   ],
   "source": [
    "# train for longer epochs\n",
    "for _ in range(20):\n",
    "    train_epoch(linear, lr, params)\n",
    "    print(validate_epoch(linear), end=' ')"
   ]
  },
  {
   "cell_type": "markdown",
   "id": "answering-leeds",
   "metadata": {},
   "source": [
    "## With Optimizer"
   ]
  },
  {
   "cell_type": "code",
   "execution_count": 131,
   "id": "overhead-alexandria",
   "metadata": {},
   "outputs": [],
   "source": [
    "linear_model = nn.Linear(28*28,1)"
   ]
  },
  {
   "cell_type": "code",
   "execution_count": 132,
   "id": "floating-marshall",
   "metadata": {},
   "outputs": [
    {
     "data": {
      "text/plain": [
       "(torch.Size([1, 784]), torch.Size([1]))"
      ]
     },
     "execution_count": 132,
     "metadata": {},
     "output_type": "execute_result"
    }
   ],
   "source": [
    "w, b = linear_model.parameters()\n",
    "w.shape, b.shape"
   ]
  },
  {
   "cell_type": "code",
   "execution_count": 133,
   "id": "figured-things",
   "metadata": {},
   "outputs": [],
   "source": [
    "class BasicOptim:\n",
    "    def __init__(self, params, lr): self.params, self.lr = list(params), lr\n",
    "    \n",
    "    def step(self, *args, **kwargs):\n",
    "        for p in self.params: p.data -= p.grad.data * self.lr\n",
    "            \n",
    "    def zero_grad(self, *args, **kwargs):\n",
    "        for p in self.params: p.grad = None\n",
    "    "
   ]
  },
  {
   "cell_type": "code",
   "execution_count": 134,
   "id": "dangerous-conference",
   "metadata": {},
   "outputs": [],
   "source": [
    "opt = BasicOptim(linear_model.parameters(), lr)"
   ]
  },
  {
   "cell_type": "code",
   "execution_count": 135,
   "id": "immediate-amplifier",
   "metadata": {},
   "outputs": [],
   "source": [
    "def new_train_epoch(model):\n",
    "    for xb, yb in dl:\n",
    "        calc_grad(xb, yb, model)\n",
    "        opt.step()\n",
    "        opt.zero_grad()"
   ]
  },
  {
   "cell_type": "code",
   "execution_count": 136,
   "id": "personal-single",
   "metadata": {},
   "outputs": [
    {
     "data": {
      "text/plain": [
       "0.4298"
      ]
     },
     "execution_count": 136,
     "metadata": {},
     "output_type": "execute_result"
    }
   ],
   "source": [
    "validate_epoch(linear_model)"
   ]
  },
  {
   "cell_type": "code",
   "execution_count": 137,
   "id": "comparable-newport",
   "metadata": {},
   "outputs": [],
   "source": [
    "def train_model(model, epochs):\n",
    "    for i in range(epochs):\n",
    "        new_train_epoch(model)\n",
    "        print(validate_epoch(model), end=' ')"
   ]
  },
  {
   "cell_type": "code",
   "execution_count": 138,
   "id": "talented-walker",
   "metadata": {},
   "outputs": [
    {
     "name": "stdout",
     "output_type": "stream",
     "text": [
      "0.4956 0.896 0.8057 0.9058 0.9303 0.945 0.9544 0.9617 0.9647 0.9671 0.9681 0.9711 0.9725 0.975 0.976 0.976 0.9774 0.9779 0.9779 0.9789 "
     ]
    }
   ],
   "source": [
    "train_model(linear_model, 20)"
   ]
  },
  {
   "cell_type": "code",
   "execution_count": 139,
   "id": "danish-mumbai",
   "metadata": {},
   "outputs": [
    {
     "name": "stdout",
     "output_type": "stream",
     "text": [
      "0.4956 0.7949 0.8528 0.9171 0.9347 0.95 0.9563 0.9627 0.9657 0.9676 0.9701 0.9715 0.9735 0.975 0.976 0.976 0.9774 0.9779 0.9779 0.9784 "
     ]
    }
   ],
   "source": [
    "# with built-in PyTorch optimizer\n",
    "linear_model = nn.Linear(28*28,1)\n",
    "opt = SGD(linear_model.parameters(), lr)\n",
    "train_model(linear_model, 20)"
   ]
  },
  {
   "cell_type": "code",
   "execution_count": 140,
   "id": "elementary-fountain",
   "metadata": {},
   "outputs": [],
   "source": [
    "# with learn.fit\n",
    "linear_model = nn.Linear(28*28,1)\n",
    "opt = SGD(linear_model.parameters(), lr)\n",
    "dls = DataLoaders(dl, dl_valid)\n",
    "learn = Learner(dls, linear_model, loss_func=mnist_loss, opt_func=SGD, metrics=batch_accuracy)"
   ]
  },
  {
   "cell_type": "code",
   "execution_count": 141,
   "id": "outstanding-lambda",
   "metadata": {},
   "outputs": [
    {
     "data": {
      "text/html": [
       "<table border=\"1\" class=\"dataframe\">\n",
       "  <thead>\n",
       "    <tr style=\"text-align: left;\">\n",
       "      <th>epoch</th>\n",
       "      <th>train_loss</th>\n",
       "      <th>valid_loss</th>\n",
       "      <th>batch_accuracy</th>\n",
       "      <th>time</th>\n",
       "    </tr>\n",
       "  </thead>\n",
       "  <tbody>\n",
       "    <tr>\n",
       "      <td>0</td>\n",
       "      <td>0.637026</td>\n",
       "      <td>0.502164</td>\n",
       "      <td>0.495584</td>\n",
       "      <td>00:00</td>\n",
       "    </tr>\n",
       "    <tr>\n",
       "      <td>1</td>\n",
       "      <td>0.329513</td>\n",
       "      <td>0.290074</td>\n",
       "      <td>0.714917</td>\n",
       "      <td>00:00</td>\n",
       "    </tr>\n",
       "    <tr>\n",
       "      <td>2</td>\n",
       "      <td>0.128342</td>\n",
       "      <td>0.156579</td>\n",
       "      <td>0.860648</td>\n",
       "      <td>00:00</td>\n",
       "    </tr>\n",
       "    <tr>\n",
       "      <td>3</td>\n",
       "      <td>0.060791</td>\n",
       "      <td>0.098456</td>\n",
       "      <td>0.918057</td>\n",
       "      <td>00:00</td>\n",
       "    </tr>\n",
       "    <tr>\n",
       "      <td>4</td>\n",
       "      <td>0.035520</td>\n",
       "      <td>0.073554</td>\n",
       "      <td>0.935231</td>\n",
       "      <td>00:00</td>\n",
       "    </tr>\n",
       "    <tr>\n",
       "      <td>5</td>\n",
       "      <td>0.025386</td>\n",
       "      <td>0.059633</td>\n",
       "      <td>0.951914</td>\n",
       "      <td>00:00</td>\n",
       "    </tr>\n",
       "    <tr>\n",
       "      <td>6</td>\n",
       "      <td>0.021059</td>\n",
       "      <td>0.050876</td>\n",
       "      <td>0.956330</td>\n",
       "      <td>00:00</td>\n",
       "    </tr>\n",
       "    <tr>\n",
       "      <td>7</td>\n",
       "      <td>0.019019</td>\n",
       "      <td>0.045000</td>\n",
       "      <td>0.963199</td>\n",
       "      <td>00:00</td>\n",
       "    </tr>\n",
       "    <tr>\n",
       "      <td>8</td>\n",
       "      <td>0.017903</td>\n",
       "      <td>0.040825</td>\n",
       "      <td>0.966143</td>\n",
       "      <td>00:00</td>\n",
       "    </tr>\n",
       "    <tr>\n",
       "      <td>9</td>\n",
       "      <td>0.017182</td>\n",
       "      <td>0.037714</td>\n",
       "      <td>0.967615</td>\n",
       "      <td>00:00</td>\n",
       "    </tr>\n",
       "  </tbody>\n",
       "</table>"
      ],
      "text/plain": [
       "<IPython.core.display.HTML object>"
      ]
     },
     "metadata": {},
     "output_type": "display_data"
    }
   ],
   "source": [
    "learn.fit(10, lr=lr)"
   ]
  },
  {
   "cell_type": "markdown",
   "id": "competitive-muslim",
   "metadata": {},
   "source": [
    "## Adding non-linearity"
   ]
  },
  {
   "cell_type": "code",
   "execution_count": 142,
   "id": "freelance-issue",
   "metadata": {},
   "outputs": [],
   "source": [
    "def simple_net(x):\n",
    "    res = x@w1 + b1\n",
    "    res = res.max(tensor(0.0))\n",
    "    res = x@w2 + b2\n",
    "    \n",
    "    return res"
   ]
  },
  {
   "cell_type": "code",
   "execution_count": 143,
   "id": "homeless-pleasure",
   "metadata": {},
   "outputs": [],
   "source": [
    "w1 = init_params((28*28,30))\n",
    "b1 = init_params(30)\n",
    "w2 = init_params((30,1))\n",
    "b2 = init_params(1)"
   ]
  },
  {
   "cell_type": "code",
   "execution_count": 144,
   "id": "through-facial",
   "metadata": {},
   "outputs": [],
   "source": [
    "simple_net = nn.Sequential(\n",
    "    nn.Linear(28*28, 30),\n",
    "    nn.ReLU(),\n",
    "    nn.Linear(30,1)\n",
    ")"
   ]
  },
  {
   "cell_type": "code",
   "execution_count": 145,
   "id": "martial-network",
   "metadata": {},
   "outputs": [],
   "source": [
    "learn = Learner(dls, simple_net, opt_func=SGD, loss_func=mnist_loss, metrics=batch_accuracy)"
   ]
  },
  {
   "cell_type": "code",
   "execution_count": 146,
   "id": "aboriginal-juice",
   "metadata": {},
   "outputs": [
    {
     "data": {
      "text/html": [
       "<table border=\"1\" class=\"dataframe\">\n",
       "  <thead>\n",
       "    <tr style=\"text-align: left;\">\n",
       "      <th>epoch</th>\n",
       "      <th>train_loss</th>\n",
       "      <th>valid_loss</th>\n",
       "      <th>batch_accuracy</th>\n",
       "      <th>time</th>\n",
       "    </tr>\n",
       "  </thead>\n",
       "  <tbody>\n",
       "    <tr>\n",
       "      <td>0</td>\n",
       "      <td>0.305915</td>\n",
       "      <td>0.423671</td>\n",
       "      <td>0.504416</td>\n",
       "      <td>00:00</td>\n",
       "    </tr>\n",
       "    <tr>\n",
       "      <td>1</td>\n",
       "      <td>0.146364</td>\n",
       "      <td>0.227520</td>\n",
       "      <td>0.809127</td>\n",
       "      <td>00:00</td>\n",
       "    </tr>\n",
       "    <tr>\n",
       "      <td>2</td>\n",
       "      <td>0.081093</td>\n",
       "      <td>0.114025</td>\n",
       "      <td>0.916094</td>\n",
       "      <td>00:00</td>\n",
       "    </tr>\n",
       "    <tr>\n",
       "      <td>3</td>\n",
       "      <td>0.053349</td>\n",
       "      <td>0.076972</td>\n",
       "      <td>0.942591</td>\n",
       "      <td>00:00</td>\n",
       "    </tr>\n",
       "    <tr>\n",
       "      <td>4</td>\n",
       "      <td>0.040487</td>\n",
       "      <td>0.060180</td>\n",
       "      <td>0.956330</td>\n",
       "      <td>00:00</td>\n",
       "    </tr>\n",
       "    <tr>\n",
       "      <td>5</td>\n",
       "      <td>0.033918</td>\n",
       "      <td>0.050778</td>\n",
       "      <td>0.965162</td>\n",
       "      <td>00:00</td>\n",
       "    </tr>\n",
       "    <tr>\n",
       "      <td>6</td>\n",
       "      <td>0.030145</td>\n",
       "      <td>0.044860</td>\n",
       "      <td>0.965653</td>\n",
       "      <td>00:00</td>\n",
       "    </tr>\n",
       "    <tr>\n",
       "      <td>7</td>\n",
       "      <td>0.027695</td>\n",
       "      <td>0.040811</td>\n",
       "      <td>0.966143</td>\n",
       "      <td>00:00</td>\n",
       "    </tr>\n",
       "    <tr>\n",
       "      <td>8</td>\n",
       "      <td>0.025931</td>\n",
       "      <td>0.037859</td>\n",
       "      <td>0.968106</td>\n",
       "      <td>00:00</td>\n",
       "    </tr>\n",
       "    <tr>\n",
       "      <td>9</td>\n",
       "      <td>0.024563</td>\n",
       "      <td>0.035601</td>\n",
       "      <td>0.971541</td>\n",
       "      <td>00:00</td>\n",
       "    </tr>\n",
       "    <tr>\n",
       "      <td>10</td>\n",
       "      <td>0.023452</td>\n",
       "      <td>0.033804</td>\n",
       "      <td>0.973013</td>\n",
       "      <td>00:00</td>\n",
       "    </tr>\n",
       "    <tr>\n",
       "      <td>11</td>\n",
       "      <td>0.022522</td>\n",
       "      <td>0.032332</td>\n",
       "      <td>0.973994</td>\n",
       "      <td>00:00</td>\n",
       "    </tr>\n",
       "    <tr>\n",
       "      <td>12</td>\n",
       "      <td>0.021727</td>\n",
       "      <td>0.031096</td>\n",
       "      <td>0.973994</td>\n",
       "      <td>00:00</td>\n",
       "    </tr>\n",
       "    <tr>\n",
       "      <td>13</td>\n",
       "      <td>0.021037</td>\n",
       "      <td>0.030038</td>\n",
       "      <td>0.974485</td>\n",
       "      <td>00:00</td>\n",
       "    </tr>\n",
       "    <tr>\n",
       "      <td>14</td>\n",
       "      <td>0.020430</td>\n",
       "      <td>0.029115</td>\n",
       "      <td>0.974975</td>\n",
       "      <td>00:00</td>\n",
       "    </tr>\n",
       "    <tr>\n",
       "      <td>15</td>\n",
       "      <td>0.019891</td>\n",
       "      <td>0.028301</td>\n",
       "      <td>0.975957</td>\n",
       "      <td>00:00</td>\n",
       "    </tr>\n",
       "    <tr>\n",
       "      <td>16</td>\n",
       "      <td>0.019407</td>\n",
       "      <td>0.027576</td>\n",
       "      <td>0.976938</td>\n",
       "      <td>00:00</td>\n",
       "    </tr>\n",
       "    <tr>\n",
       "      <td>17</td>\n",
       "      <td>0.018971</td>\n",
       "      <td>0.026925</td>\n",
       "      <td>0.978410</td>\n",
       "      <td>00:00</td>\n",
       "    </tr>\n",
       "    <tr>\n",
       "      <td>18</td>\n",
       "      <td>0.018575</td>\n",
       "      <td>0.026337</td>\n",
       "      <td>0.978410</td>\n",
       "      <td>00:00</td>\n",
       "    </tr>\n",
       "    <tr>\n",
       "      <td>19</td>\n",
       "      <td>0.018212</td>\n",
       "      <td>0.025803</td>\n",
       "      <td>0.978410</td>\n",
       "      <td>00:00</td>\n",
       "    </tr>\n",
       "    <tr>\n",
       "      <td>20</td>\n",
       "      <td>0.017879</td>\n",
       "      <td>0.025315</td>\n",
       "      <td>0.978410</td>\n",
       "      <td>00:00</td>\n",
       "    </tr>\n",
       "    <tr>\n",
       "      <td>21</td>\n",
       "      <td>0.017570</td>\n",
       "      <td>0.024869</td>\n",
       "      <td>0.978410</td>\n",
       "      <td>00:00</td>\n",
       "    </tr>\n",
       "    <tr>\n",
       "      <td>22</td>\n",
       "      <td>0.017283</td>\n",
       "      <td>0.024458</td>\n",
       "      <td>0.978901</td>\n",
       "      <td>00:00</td>\n",
       "    </tr>\n",
       "    <tr>\n",
       "      <td>23</td>\n",
       "      <td>0.017015</td>\n",
       "      <td>0.024078</td>\n",
       "      <td>0.980373</td>\n",
       "      <td>00:00</td>\n",
       "    </tr>\n",
       "    <tr>\n",
       "      <td>24</td>\n",
       "      <td>0.016763</td>\n",
       "      <td>0.023727</td>\n",
       "      <td>0.980373</td>\n",
       "      <td>00:00</td>\n",
       "    </tr>\n",
       "    <tr>\n",
       "      <td>25</td>\n",
       "      <td>0.016527</td>\n",
       "      <td>0.023402</td>\n",
       "      <td>0.980864</td>\n",
       "      <td>00:00</td>\n",
       "    </tr>\n",
       "    <tr>\n",
       "      <td>26</td>\n",
       "      <td>0.016304</td>\n",
       "      <td>0.023099</td>\n",
       "      <td>0.980864</td>\n",
       "      <td>00:00</td>\n",
       "    </tr>\n",
       "    <tr>\n",
       "      <td>27</td>\n",
       "      <td>0.016093</td>\n",
       "      <td>0.022818</td>\n",
       "      <td>0.980864</td>\n",
       "      <td>00:00</td>\n",
       "    </tr>\n",
       "    <tr>\n",
       "      <td>28</td>\n",
       "      <td>0.015893</td>\n",
       "      <td>0.022555</td>\n",
       "      <td>0.980864</td>\n",
       "      <td>00:00</td>\n",
       "    </tr>\n",
       "    <tr>\n",
       "      <td>29</td>\n",
       "      <td>0.015703</td>\n",
       "      <td>0.022310</td>\n",
       "      <td>0.981845</td>\n",
       "      <td>00:00</td>\n",
       "    </tr>\n",
       "    <tr>\n",
       "      <td>30</td>\n",
       "      <td>0.015522</td>\n",
       "      <td>0.022081</td>\n",
       "      <td>0.982336</td>\n",
       "      <td>00:00</td>\n",
       "    </tr>\n",
       "    <tr>\n",
       "      <td>31</td>\n",
       "      <td>0.015350</td>\n",
       "      <td>0.021866</td>\n",
       "      <td>0.982336</td>\n",
       "      <td>00:00</td>\n",
       "    </tr>\n",
       "    <tr>\n",
       "      <td>32</td>\n",
       "      <td>0.015186</td>\n",
       "      <td>0.021664</td>\n",
       "      <td>0.982826</td>\n",
       "      <td>00:00</td>\n",
       "    </tr>\n",
       "    <tr>\n",
       "      <td>33</td>\n",
       "      <td>0.015028</td>\n",
       "      <td>0.021474</td>\n",
       "      <td>0.982826</td>\n",
       "      <td>00:00</td>\n",
       "    </tr>\n",
       "    <tr>\n",
       "      <td>34</td>\n",
       "      <td>0.014878</td>\n",
       "      <td>0.021295</td>\n",
       "      <td>0.982826</td>\n",
       "      <td>00:00</td>\n",
       "    </tr>\n",
       "    <tr>\n",
       "      <td>35</td>\n",
       "      <td>0.014733</td>\n",
       "      <td>0.021126</td>\n",
       "      <td>0.982826</td>\n",
       "      <td>00:00</td>\n",
       "    </tr>\n",
       "    <tr>\n",
       "      <td>36</td>\n",
       "      <td>0.014594</td>\n",
       "      <td>0.020966</td>\n",
       "      <td>0.982826</td>\n",
       "      <td>00:00</td>\n",
       "    </tr>\n",
       "    <tr>\n",
       "      <td>37</td>\n",
       "      <td>0.014460</td>\n",
       "      <td>0.020816</td>\n",
       "      <td>0.983317</td>\n",
       "      <td>00:00</td>\n",
       "    </tr>\n",
       "    <tr>\n",
       "      <td>38</td>\n",
       "      <td>0.014332</td>\n",
       "      <td>0.020672</td>\n",
       "      <td>0.983317</td>\n",
       "      <td>00:00</td>\n",
       "    </tr>\n",
       "    <tr>\n",
       "      <td>39</td>\n",
       "      <td>0.014208</td>\n",
       "      <td>0.020537</td>\n",
       "      <td>0.982826</td>\n",
       "      <td>00:00</td>\n",
       "    </tr>\n",
       "  </tbody>\n",
       "</table>"
      ],
      "text/plain": [
       "<IPython.core.display.HTML object>"
      ]
     },
     "metadata": {},
     "output_type": "display_data"
    }
   ],
   "source": [
    "learn.fit(40, 0.1)"
   ]
  },
  {
   "cell_type": "code",
   "execution_count": 147,
   "id": "valuable-hacker",
   "metadata": {},
   "outputs": [
    {
     "data": {
      "text/plain": [
       "[<matplotlib.lines.Line2D at 0x2020855b760>]"
      ]
     },
     "execution_count": 147,
     "metadata": {},
     "output_type": "execute_result"
    },
    {
     "data": {
      "image/png": "[encoded data removed]",
      "text/plain": [
       "<Figure size 432x288 with 1 Axes>"
      ]
     },
     "metadata": {
      "needs_background": "light"
     },
     "output_type": "display_data"
    }
   ],
   "source": [
    "plt.plot(L(learn.recorder.values).itemgot(2))"
   ]
  },
  {
   "cell_type": "code",
   "execution_count": 149,
   "id": "first-parent",
   "metadata": {},
   "outputs": [
    {
     "data": {
      "text/plain": [
       "0.982826292514801"
      ]
     },
     "execution_count": 149,
     "metadata": {},
     "output_type": "execute_result"
    }
   ],
   "source": [
    "# last value, 2nd column (batch accuracy)\n",
    "learn.recorder.values[-1][2]"
   ]
  },
  {
   "cell_type": "code",
   "execution_count": null,
   "id": "ideal-recorder",
   "metadata": {},
   "outputs": [],
   "source": []
  }
 ],
 "metadata": {
  "kernelspec": {
   "display_name": "Python 3",
   "language": "python",
   "name": "python3"
  },
  "language_info": {
   "codemirror_mode": {
    "name": "ipython",
    "version": 3
   },
   "file_extension": ".py",
   "mimetype": "text/x-python",
   "name": "python",
   "nbconvert_exporter": "python",
   "pygments_lexer": "ipython3",
   "version": "3.8.5"
  }
 },
 "nbformat": 4,
 "nbformat_minor": 5
}
